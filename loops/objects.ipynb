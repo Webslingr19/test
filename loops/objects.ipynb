{
 "cells": [
  {
   "cell_type": "code",
   "execution_count": 1,
   "source": [
    "// Create an object\r\n",
    "\r\n",
    "var students = { 'w0123456' : 'Jane Doe', 'w0111111' : 'John Smith', 'w0222222' : 'Jack Sprat'}\r\n",
    "\r\n",
    "console.log(students)"
   ],
   "outputs": [
    {
     "output_type": "stream",
     "name": "stdout",
     "text": [
      "{\n",
      "  w0123456: 'Jane Doe',\n",
      "  w0111111: 'John Smith',\n",
      "  w0222222: 'Jack Sprat'\n",
      "}\n"
     ]
    }
   ],
   "metadata": {}
  },
  {
   "cell_type": "code",
   "execution_count": 4,
   "source": [
    "// Access an element\r\n",
    "\r\n",
    "var object = { 'apple':'red', 'orange':'orange', 'banana':'yellow'} \r\n",
    "console.log(object['apple'])\r\n",
    "\r\n",
    "object['apple'] = 'green' \r\n",
    "console.log(object['apple'])\r\n",
    "\r\n",
    "// OR\r\n",
    "\r\n",
    "object['apple'] = 'green' \r\n",
    "console.log(object.apple)"
   ],
   "outputs": [
    {
     "output_type": "stream",
     "name": "stdout",
     "text": [
      "red\n",
      "green\n",
      "green\n"
     ]
    }
   ],
   "metadata": {}
  },
  {
   "cell_type": "code",
   "execution_count": 5,
   "source": [
    "// Object can contain anything as a value\r\n",
    "var object = { string : 'a string value', number : 12345, array : [1, 2, 3, 4, 5], object2 : {a : 1, b : 2, c : 3 } }\r\n",
    "\r\n",
    "console.log(object.object2.b)"
   ],
   "outputs": [
    {
     "output_type": "stream",
     "name": "stdout",
     "text": [
      "2\n"
     ]
    }
   ],
   "metadata": {}
  },
  {
   "cell_type": "code",
   "execution_count": 11,
   "source": [
    "// To add elements to an object\r\n",
    "\r\n",
    "var object = { 'apple':'red', 'orange':'orange', 'banana':'yellow'} \r\n",
    "object['strawberry'] = 'red'\r\n",
    "\r\n",
    "object"
   ],
   "outputs": [
    {
     "output_type": "execute_result",
     "data": {
      "text/plain": [
       "{ apple: 'red', orange: 'orange', banana: 'yellow', strawberry: 'red' }"
      ]
     },
     "metadata": {},
     "execution_count": 11
    }
   ],
   "metadata": {}
  },
  {
   "cell_type": "code",
   "execution_count": 12,
   "source": [
    "// To remove elements from an object\r\n",
    "\r\n",
    "var object = { 'apple':'red', 'orange':'orange', 'banana':'yellow'} \r\n",
    "\r\n",
    "delete object ['apple']\r\n",
    "\r\n",
    "object"
   ],
   "outputs": [
    {
     "output_type": "execute_result",
     "data": {
      "text/plain": [
       "{ orange: 'orange', banana: 'yellow' }"
      ]
     },
     "metadata": {},
     "execution_count": 12
    }
   ],
   "metadata": {}
  },
  {
   "cell_type": "code",
   "execution_count": 15,
   "source": [
    "// iterating over elements\r\n",
    "\r\n",
    "var obj = { a:1, b:2, c:3, d:4}\r\n",
    "\r\n",
    "for (const key in obj) {\r\n",
    "    console.log(obj[key])\r\n",
    "}"
   ],
   "outputs": [
    {
     "output_type": "stream",
     "name": "stdout",
     "text": [
      "1\n",
      "2\n",
      "3\n",
      "4\n"
     ]
    }
   ],
   "metadata": {}
  },
  {
   "cell_type": "code",
   "execution_count": null,
   "source": [],
   "outputs": [],
   "metadata": {}
  }
 ],
 "metadata": {
  "orig_nbformat": 4,
  "language_info": {
   "name": "javascript",
   "version": "16.9.1",
   "mimetype": "application/javascript",
   "file_extension": ".js"
  },
  "kernelspec": {
   "name": "javascript",
   "display_name": "Javascript (Node.js)",
   "language": "javascript"
  }
 },
 "nbformat": 4,
 "nbformat_minor": 2
}