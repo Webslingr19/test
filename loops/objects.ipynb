{
 "cells": [
  {
   "cell_type": "code",
   "execution_count": 1,
   "source": [
    "// Create an object\r\n",
    "\r\n",
    "var students = { 'w0123456' : 'Jane Doe', 'w0111111' : 'John Smith', 'w0222222' : 'Jack Sprat'}\r\n",
    "\r\n",
    "console.log(students)"
   ],
   "outputs": [
    {
     "output_type": "stream",
     "name": "stdout",
     "text": [
      "{\n",
      "  w0123456: 'Jane Doe',\n",
      "  w0111111: 'John Smith',\n",
      "  w0222222: 'Jack Sprat'\n",
      "}\n"
     ]
    }
   ],
   "metadata": {}
  },
  {
   "cell_type": "code",
   "execution_count": 4,
   "source": [
    "// Access an element\r\n",
    "\r\n",
    "var object = { 'apple':'red', 'orange':'orange', 'banana':'yellow'} \r\n",
    "console.log(object['apple'])\r\n",
    "\r\n",
    "object['apple'] = 'green' \r\n",
    "console.log(object['apple'])\r\n",
    "\r\n",
    "// OR\r\n",
    "\r\n",
    "object['apple'] = 'green' \r\n",
    "console.log(object.apple)"
   ],
   "outputs": [
    {
     "output_type": "stream",
     "name": "stdout",
     "text": [
      "red\n",
      "green\n",
      "green\n"
     ]
    }
   ],
   "metadata": {}
  },
  {
   "cell_type": "code",
   "execution_count": 5,
   "source": [
    "// Object can contain anything as a value\r\n",
    "var object = { string : 'a string value', number : 12345, array : [1, 2, 3, 4, 5], object2 : {a : 1, b : 2, c : 3 } }\r\n",
    "\r\n",
    "console.log(object.object2.b)"
   ],
   "outputs": [
    {
     "output_type": "stream",
     "name": "stdout",
     "text": [
      "2\n"
     ]
    }
   ],
   "metadata": {}
  },
  {
   "cell_type": "code",
   "execution_count": 11,
   "source": [
    "// To add elements to an object\r\n",
    "\r\n",
    "var object = { 'apple':'red', 'orange':'orange', 'banana':'yellow'} \r\n",
    "object['strawberry'] = 'red'\r\n",
    "\r\n",
    "object"
   ],
   "outputs": [
    {
     "output_type": "execute_result",
     "data": {
      "text/plain": [
       "{ apple: 'red', orange: 'orange', banana: 'yellow', strawberry: 'red' }"
      ]
     },
     "metadata": {},
     "execution_count": 11
    }
   ],
   "metadata": {}
  },
  {
   "cell_type": "code",
   "execution_count": 12,
   "source": [
    "// To remove elements from an object\r\n",
    "\r\n",
    "var object = { 'apple':'red', 'orange':'orange', 'banana':'yellow'} \r\n",
    "\r\n",
    "delete object ['apple']\r\n",
    "\r\n",
    "object"
   ],
   "outputs": [
    {
     "output_type": "execute_result",
     "data": {
      "text/plain": [
       "{ orange: 'orange', banana: 'yellow' }"
      ]
     },
     "metadata": {},
     "execution_count": 12
    }
   ],
   "metadata": {}
  },
  {
   "cell_type": "code",
   "execution_count": 15,
   "source": [
    "// iterating over elements\r\n",
    "\r\n",
    "var obj = { a:1, b:2, c:3, d:4}\r\n",
    "\r\n",
    "for (const key in obj) {\r\n",
    "    console.log(obj[key])\r\n",
    "}"
   ],
   "outputs": [
    {
     "output_type": "stream",
     "name": "stdout",
     "text": [
      "1\n",
      "2\n",
      "3\n",
      "4\n"
     ]
    }
   ],
   "metadata": {}
  },
  {
   "cell_type": "code",
   "execution_count": 1,
   "source": [
    "// Create a program that determines if a word is a palindrome\r\n",
    "// var prompt = require(\"prompt-sync\")()\r\n",
    "\r\n",
    "// var userInput = prompt(\"Enter a word: \")\r\n",
    "var userInput = \"racecar\"\r\n",
    "\r\n",
    "\r\n",
    "// If user input space dont add in array\r\n",
    "// var cleanPhrase = []\r\n",
    "\r\n",
    "// for (var i =0; i < userInput.length; i++){\r\n",
    "//     if(userInput !== \" \"){\r\n",
    "//         cleanPhrase.push(userInput[i])\r\n",
    "//     }\r\n",
    "// }\r\n",
    "// userInput = cleanPhrase.join('')\r\n",
    "\r\n",
    "\r\n",
    "var reversed = Array.from(userInput).reverse().join('')\r\n",
    "// for  (let i = userInput.length -1; i >=0; i--) {\r\n",
    "//     reversed += userInput[i]\r\n",
    "// }\r\n",
    "\r\n",
    "if(userInput === reversed) {\r\n",
    "    console.log(\"The word is a palindrome.\")\r\n",
    "}\r\n",
    "else{\r\n",
    "    console.log(\"The word is NOT a palindrome.\")\r\n",
    "}\r\n"
   ],
   "outputs": [
    {
     "output_type": "stream",
     "name": "stdout",
     "text": [
      "The word is a palindrome.\n"
     ]
    }
   ],
   "metadata": {}
  },
  {
   "cell_type": "code",
   "execution_count": 2,
   "source": [
    "// retrieve keys from object NOT COMPLETED\r\n",
    "var obj = { a:1, b:2, c:3, d:4 }\r\n",
    "\r\n",
    "var keys = Object.keys(obj)\r\n"
   ],
   "outputs": [],
   "metadata": {}
  },
  {
   "cell_type": "code",
   "execution_count": 3,
   "source": [
    "// object destructuring\r\n",
    "\r\n",
    "var obj = { a:1, b:2, c:3, d:4 }\r\n",
    "\r\n",
    "var { a, b, c, d} = obj\r\n",
    "\r\n",
    "console.log(a, b, c, d)"
   ],
   "outputs": [
    {
     "output_type": "stream",
     "name": "stdout",
     "text": [
      "1 2 3 4\n"
     ]
    }
   ],
   "metadata": {}
  },
  {
   "cell_type": "code",
   "execution_count": 5,
   "source": [
    "// object destructuring\r\n",
    "\r\n",
    "var obj = { a:1, b:2, c:3, d:4 }\r\n",
    "\r\n",
    "var { a, b, d} = obj\r\n",
    "\r\n",
    "console.log(a, b, d)"
   ],
   "outputs": [
    {
     "output_type": "stream",
     "name": "stdout",
     "text": [
      "1 2 4\n"
     ]
    }
   ],
   "metadata": {}
  },
  {
   "cell_type": "code",
   "execution_count": 6,
   "source": [
    "// object destructuring\r\n",
    "\r\n",
    "var obj = { a:1, b:2, c:3, d: [1, 2, 3, 4], \"a key\": 5 }\r\n",
    "\r\n",
    "var { a, b, c, d} = obj\r\n",
    "var akey = obj[\"a key\"]\r\n",
    "\r\n",
    "console.log(a, b, d, c, obj[\"a key\"])"
   ],
   "outputs": [
    {
     "output_type": "stream",
     "name": "stdout",
     "text": [
      "1 2 [ 1, 2, 3, 4 ] 3 5\n"
     ]
    }
   ],
   "metadata": {}
  },
  {
   "cell_type": "code",
   "execution_count": 7,
   "source": [
    "var obj = { a : 1 , b : 2 , c : 3 }\r\n",
    "console.log(obj.d)"
   ],
   "outputs": [
    {
     "output_type": "stream",
     "name": "stdout",
     "text": [
      "undefined\n"
     ]
    }
   ],
   "metadata": {}
  },
  {
   "cell_type": "code",
   "execution_count": null,
   "source": [
    "// Changing letter case\r\n",
    "\r\n",
    "// Creates a new string with all uppercase letters \r\n",
    "var upperCase = string.ToUpperCase() \r\n",
    "\r\n",
    "// Creates a new string with all lowercase letters\r\n",
    "var lowerCase = string.ToLowerCase() "
   ],
   "outputs": [],
   "metadata": {}
  }
 ],
 "metadata": {
  "orig_nbformat": 4,
  "language_info": {
   "name": "javascript",
   "version": "16.9.1",
   "mimetype": "application/javascript",
   "file_extension": ".js"
  },
  "kernelspec": {
   "name": "javascript",
   "display_name": "Javascript (Node.js)",
   "language": "javascript"
  }
 },
 "nbformat": 4,
 "nbformat_minor": 2
}