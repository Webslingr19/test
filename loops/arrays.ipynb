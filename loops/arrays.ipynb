{
 "cells": [
  {
   "cell_type": "code",
   "execution_count": 6,
   "source": [
    "var grades = [ 12, 34, 45, 56, 67, 78 ] \r\n",
    "\r\n",
    "var empty = [] "
   ],
   "outputs": [],
   "metadata": {}
  },
  {
   "cell_type": "code",
   "execution_count": 10,
   "source": [
    "// to display all elements of an array\r\n",
    "\r\n",
    "for (var i = 0; i < grades.length; i++) {\r\n",
    "    console.log(grades[i])\r\n",
    "}"
   ],
   "outputs": [
    {
     "output_type": "stream",
     "name": "stdout",
     "text": [
      "12\n",
      "34\n",
      "45\n",
      "56\n",
      "67\n",
      "78\n"
     ]
    }
   ],
   "metadata": {}
  },
  {
   "cell_type": "code",
   "execution_count": 8,
   "source": [
    "// newer method to access all elements in an array\r\n",
    "for (var grade of grades) {\r\n",
    "    console.log(grade)\r\n",
    "}"
   ],
   "outputs": [
    {
     "output_type": "stream",
     "name": "stdout",
     "text": [
      "12\n",
      "34\n",
      "45\n",
      "56\n",
      "67\n",
      "78\n"
     ]
    }
   ],
   "metadata": {}
  },
  {
   "cell_type": "code",
   "execution_count": 14,
   "source": [
    "// to add elements to an array\r\n",
    "console.log(grades)\r\n",
    "grades.push(99)\r\n",
    "console.log(grades)\r\n",
    "console.log(grades.length)"
   ],
   "outputs": [
    {
     "output_type": "stream",
     "name": "stdout",
     "text": [
      "[\n",
      "  12, 34, 45, 56, 67,\n",
      "  78, 99, 99, 99\n",
      "]\n",
      "[\n",
      "  12, 34, 45, 56, 67,\n",
      "  78, 99, 99, 99, 99\n",
      "]\n",
      "10\n"
     ]
    }
   ],
   "metadata": {}
  },
  {
   "cell_type": "code",
   "execution_count": 15,
   "source": [
    "// to add elements to the beginning of the array\r\n",
    "var grades = [1, 2, 3, 4, 5 ]\r\n",
    "console.log(grades)\r\n",
    "grades.unshift(0)\r\n",
    "console.log(grades)\r\n",
    "console.log(grades.length)"
   ],
   "outputs": [
    {
     "output_type": "stream",
     "name": "stdout",
     "text": [
      "[ 1, 2, 3, 4, 5 ]\n",
      "[ 0, 1, 2, 3, 4, 5 ]\n",
      "6\n"
     ]
    }
   ],
   "metadata": {}
  },
  {
   "cell_type": "code",
   "execution_count": 18,
   "source": [
    "// to remove an element from the end of an array\r\n",
    "var grades = [1, 2, 3, 4, 5 ]\r\n",
    "console.log(grades)\r\n",
    "var last = grades.pop()\r\n",
    "console.log(grades)\r\n",
    "console.log(last)\r\n"
   ],
   "outputs": [
    {
     "output_type": "stream",
     "name": "stdout",
     "text": [
      "[ 1, 2, 3, 4, 5 ]\n",
      "[ 1, 2, 3, 4 ]\n",
      "5\n"
     ]
    }
   ],
   "metadata": {}
  },
  {
   "cell_type": "code",
   "execution_count": 19,
   "source": [
    "// to remove an element from the start of an array\r\n",
    "var grades = [1, 2, 3, 4, 5 ]\r\n",
    "console.log(grades)\r\n",
    "var first = grades.shift()\r\n",
    "console.log(grades)\r\n",
    "console.log(first)\r\n"
   ],
   "outputs": [
    {
     "output_type": "stream",
     "name": "stdout",
     "text": [
      "[ 1, 2, 3, 4, 5 ]\n",
      "[ 2, 3, 4, 5 ]\n",
      "1\n"
     ]
    }
   ],
   "metadata": {}
  },
  {
   "cell_type": "code",
   "execution_count": 22,
   "source": [
    "// to find an element in an array\r\n",
    "\r\n",
    "var names = [ 'John', 'Jim', 'Jane', 'Geoff', 'Jill', 'Geoff' ] \r\n",
    "\r\n",
    " \r\n",
    "\r\n",
    "// the long way (Shows all Geoffs)\r\n",
    "\r\n",
    "for (var i = 0; i < names.length; i++) { \r\n",
    "    if (names[i] === 'Geoff') { \r\n",
    "        console.log(i) \r\n",
    "    } \r\n",
    "} \r\n",
    "\r\n",
    "// the short way (Shows only the first Geoff)\r\n",
    "\r\n",
    "console.log(names.indexOf('Geoff')) "
   ],
   "outputs": [
    {
     "output_type": "stream",
     "name": "stdout",
     "text": [
      "3\n",
      "5\n",
      "3\n"
     ]
    }
   ],
   "metadata": {}
  },
  {
   "cell_type": "code",
   "execution_count": 24,
   "source": [
    "// to reverse the order of the elements in an array\r\n",
    "var names = [ 'John', 'Jim', 'Jane', 'Geoff', 'Jill', 'Geoff' ] \r\n",
    "\r\n",
    "console.log(names.reverse())\r\n",
    "console.log(names)\r\n",
    "console.log(names.reverse())\r\n",
    "console.log(names)"
   ],
   "outputs": [
    {
     "output_type": "stream",
     "name": "stdout",
     "text": [
      "[ 'Geoff', 'Jill', 'Geoff', 'Jane', 'Jim', 'John' ]\n",
      "[ 'Geoff', 'Jill', 'Geoff', 'Jane', 'Jim', 'John' ]\n",
      "[ 'John', 'Jim', 'Jane', 'Geoff', 'Jill', 'Geoff' ]\n",
      "[ 'John', 'Jim', 'Jane', 'Geoff', 'Jill', 'Geoff' ]\n"
     ]
    }
   ],
   "metadata": {}
  },
  {
   "cell_type": "code",
   "execution_count": 31,
   "source": [
    "// multidimensional array\r\n",
    "var studentInfo = [\r\n",
    "    [[\"John Doe\", \"Biff\", \"Killer\"] , \"W123456\"], [\"PROG1700\", \"DBAS1700\", \"NETW1200\"] \r\n",
    "]\r\n",
    "studentInfo[0][0][1]"
   ],
   "outputs": [
    {
     "output_type": "execute_result",
     "data": {
      "text/plain": [
       "'Biff'"
      ]
     },
     "metadata": {},
     "execution_count": 31
    }
   ],
   "metadata": {}
  },
  {
   "cell_type": "code",
   "execution_count": 39,
   "source": [
    "// slicing\r\n",
    "var nums = [1, 2, 3, 4, 5]\r\n",
    "\r\n",
    "console.log(nums.slice(0,4))\r\n",
    "console.log(nums)\r\n",
    "\r\n",
    "var smaller = nums.slice(0,4)\r\n",
    "console.log(smaller)\r\n",
    "\r\n",
    "var latterHalf = nums.slice(2)\r\n",
    "console.log(latterHalf)"
   ],
   "outputs": [
    {
     "output_type": "stream",
     "name": "stdout",
     "text": [
      "[ 1, 2, 3, 4 ]\n",
      "[ 1, 2, 3, 4, 5 ]\n",
      "[ 1, 2, 3, 4 ]\n",
      "[ 3, 4, 5 ]\n"
     ]
    }
   ],
   "metadata": {}
  },
  {
   "cell_type": "code",
   "execution_count": 43,
   "source": [
    "// strings as arrays\r\n",
    "var str = \"123456789\"\r\n",
    "console.log(str[2])\r\n",
    "console.log(str.slice(0,5))"
   ],
   "outputs": [
    {
     "output_type": "stream",
     "name": "stdout",
     "text": [
      "3\n",
      "12345\n"
     ]
    }
   ],
   "metadata": {}
  },
  {
   "cell_type": "code",
   "execution_count": 44,
   "source": [
    "//changing a string to an array\r\n",
    "var str = \"Hello World\"\r\n",
    "var array = Array.from(str)\r\n",
    "str[0] ='X' // doesn't do anything\r\n",
    "console.log(str)\r\n",
    "array[0] ='X' // This works!\r\n",
    "console.log(array)\r\n",
    "\r\n",
    "// convert array back to string separated by dashes\r\n",
    "var str2 = array.join('-')\r\n",
    "console.log(str2)"
   ],
   "outputs": [
    {
     "output_type": "stream",
     "name": "stdout",
     "text": [
      "Hello World\n",
      "[\n",
      "  'X', 'e', 'l', 'l',\n",
      "  'o', ' ', 'W', 'o',\n",
      "  'r', 'l', 'd'\n",
      "]\n",
      "X-e-l-l-o- -W-o-r-l-d\n"
     ]
    }
   ],
   "metadata": {}
  },
  {
   "cell_type": "code",
   "execution_count": 1,
   "source": [
    "// Create a program that takes a word or phrase, input from the user, and displays the reverse of that input.\r\n",
    "// E.g.\r\n",
    "// Apple => elppA\r\n",
    "\r\n",
    "var userInput = \"Apple\"\r\n",
    "\r\n",
    "//long way\r\n",
    "var reversed = \"\"\r\n",
    "for  (let i = userInput.length -1; i >=0; i--) {\r\n",
    "    reversed += userInput[i]\r\n",
    "}\r\n",
    "console.log(reversed)\r\n",
    "\r\n",
    "//shorter way\r\n",
    "var array = Array.from(userInput)\r\n",
    "var reversed = array.reverse().join('')\r\n",
    "console.log(array)\r\n",
    "console.log(reversed)"
   ],
   "outputs": [
    {
     "output_type": "stream",
     "name": "stdout",
     "text": [
      "elppA\n",
      "[ 'e', 'l', 'p', 'p', 'A' ]\n",
      "elppA\n"
     ]
    }
   ],
   "metadata": {}
  },
  {
   "cell_type": "code",
   "execution_count": 4,
   "source": [
    "// extra challenge\r\n",
    "// As an extra challenge, reverse everything except the first and last letters.\r\n",
    "// e.g.\r\n",
    "// Apple => Alppe\r\n",
    "\r\n",
    "var userInput = \"Apple\"\r\n",
    "\r\n",
    "var array = Array.from(userInput)\r\n",
    "\r\n",
    "var middle = array.slice(1,-1)\r\n",
    "var middleString = middle.reverse().join('')\r\n",
    "\r\n",
    "console.log(array[0] + middleString + array[array.length-1])"
   ],
   "outputs": [
    {
     "output_type": "stream",
     "name": "stdout",
     "text": [
      "Alppe\n"
     ]
    }
   ],
   "metadata": {}
  },
  {
   "cell_type": "code",
   "execution_count": 3,
   "source": [
    "// Destructuring an array\r\n",
    "\r\n",
    "var a = 1\r\n",
    "var b = 2\r\n",
    "var c = 3\r\n",
    "\r\n",
    "var array = [a, b, c]\r\n",
    "\r\n",
    "// add one to each element\r\n",
    "for (var i = 0; i < array.length; i++) {\r\n",
    "    array[i]++;\r\n",
    "}\r\n",
    "\r\n",
    "[a, b, c] = array\r\n",
    "\r\n",
    "console.log(a, b, c)"
   ],
   "outputs": [
    {
     "output_type": "stream",
     "name": "stdout",
     "text": [
      "2 3 4\n"
     ]
    }
   ],
   "metadata": {}
  },
  {
   "cell_type": "code",
   "execution_count": 9,
   "source": [
    "// Destructuring large array to few variables\r\n",
    "var array = [1, 2, 3, 4, 5]\r\n",
    "var [a, b, c] = array\r\n",
    "\r\n",
    "console.log(a)\r\n",
    "console.log(b)\r\n",
    "console.log(c)\r\n",
    "\r\n",
    "console.log(\"_\".repeat(10))\r\n",
    "\r\n",
    "\r\n",
    "// you must have the ellipsis on the last element\r\n",
    "var [a, b, ...c] = array\r\n",
    "\r\n",
    "console.log(a)\r\n",
    "console.log(b)\r\n",
    "console.log(c)"
   ],
   "outputs": [
    {
     "output_type": "stream",
     "name": "stdout",
     "text": [
      "1\n",
      "2\n",
      "3\n",
      "__________\n",
      "1\n",
      "2\n",
      "[ 3, 4, 5 ]\n"
     ]
    }
   ],
   "metadata": {}
  },
  {
   "cell_type": "code",
   "execution_count": null,
   "source": [],
   "outputs": [],
   "metadata": {}
  }
 ],
 "metadata": {
  "orig_nbformat": 4,
  "language_info": {
   "name": "javascript",
   "version": "16.9.1",
   "mimetype": "application/javascript",
   "file_extension": ".js"
  },
  "kernelspec": {
   "name": "javascript",
   "display_name": "Javascript (Node.js)",
   "language": "javascript"
  }
 },
 "nbformat": 4,
 "nbformat_minor": 2
}