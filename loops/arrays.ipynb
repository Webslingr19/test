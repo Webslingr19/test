{
 "cells": [
  {
   "cell_type": "code",
   "execution_count": 6,
   "source": [
    "var grades = [ 12, 34, 45, 56, 67, 78 ] \r\n",
    "\r\n",
    "var empty = [] "
   ],
   "outputs": [],
   "metadata": {}
  },
  {
   "cell_type": "code",
   "execution_count": 10,
   "source": [
    "// to display all elements of an array\r\n",
    "\r\n",
    "for (var i = 0; i < grades.length; i++) {\r\n",
    "    console.log(grades[i])\r\n",
    "}"
   ],
   "outputs": [
    {
     "output_type": "stream",
     "name": "stdout",
     "text": [
      "12\n",
      "34\n",
      "45\n",
      "56\n",
      "67\n",
      "78\n"
     ]
    }
   ],
   "metadata": {}
  },
  {
   "cell_type": "code",
   "execution_count": 8,
   "source": [
    "// newer method to access all elements in an array\r\n",
    "for (var grade of grades) {\r\n",
    "    console.log(grade)\r\n",
    "}"
   ],
   "outputs": [
    {
     "output_type": "stream",
     "name": "stdout",
     "text": [
      "12\n",
      "34\n",
      "45\n",
      "56\n",
      "67\n",
      "78\n"
     ]
    }
   ],
   "metadata": {}
  },
  {
   "cell_type": "code",
   "execution_count": 14,
   "source": [
    "// to add elements to an array\r\n",
    "console.log(grades)\r\n",
    "grades.push(99)\r\n",
    "console.log(grades)\r\n",
    "console.log(grades.length)"
   ],
   "outputs": [
    {
     "output_type": "stream",
     "name": "stdout",
     "text": [
      "[\n",
      "  12, 34, 45, 56, 67,\n",
      "  78, 99, 99, 99\n",
      "]\n",
      "[\n",
      "  12, 34, 45, 56, 67,\n",
      "  78, 99, 99, 99, 99\n",
      "]\n",
      "10\n"
     ]
    }
   ],
   "metadata": {}
  },
  {
   "cell_type": "code",
   "execution_count": 15,
   "source": [
    "// to add elements to the beginning of the array\r\n",
    "var grades = [1, 2, 3, 4, 5 ]\r\n",
    "console.log(grades)\r\n",
    "grades.unshift(0)\r\n",
    "console.log(grades)\r\n",
    "console.log(grades.length)"
   ],
   "outputs": [
    {
     "output_type": "stream",
     "name": "stdout",
     "text": [
      "[ 1, 2, 3, 4, 5 ]\n",
      "[ 0, 1, 2, 3, 4, 5 ]\n",
      "6\n"
     ]
    }
   ],
   "metadata": {}
  },
  {
   "cell_type": "code",
   "execution_count": 18,
   "source": [
    "// to remove an element from the end of an array\r\n",
    "var grades = [1, 2, 3, 4, 5 ]\r\n",
    "console.log(grades)\r\n",
    "var last = grades.pop()\r\n",
    "console.log(grades)\r\n",
    "console.log(last)\r\n"
   ],
   "outputs": [
    {
     "output_type": "stream",
     "name": "stdout",
     "text": [
      "[ 1, 2, 3, 4, 5 ]\n",
      "[ 1, 2, 3, 4 ]\n",
      "5\n"
     ]
    }
   ],
   "metadata": {}
  },
  {
   "cell_type": "code",
   "execution_count": 19,
   "source": [
    "// to remove an element from the start of an array\r\n",
    "var grades = [1, 2, 3, 4, 5 ]\r\n",
    "console.log(grades)\r\n",
    "var first = grades.shift()\r\n",
    "console.log(grades)\r\n",
    "console.log(first)\r\n"
   ],
   "outputs": [
    {
     "output_type": "stream",
     "name": "stdout",
     "text": [
      "[ 1, 2, 3, 4, 5 ]\n",
      "[ 2, 3, 4, 5 ]\n",
      "1\n"
     ]
    }
   ],
   "metadata": {}
  },
  {
   "cell_type": "code",
   "execution_count": 22,
   "source": [
    "// to find an element in an array\r\n",
    "\r\n",
    "var names = [ 'John', 'Jim', 'Jane', 'Geoff', 'Jill', 'Geoff' ] \r\n",
    "\r\n",
    " \r\n",
    "\r\n",
    "// the long way (Shows all Geoffs)\r\n",
    "\r\n",
    "for (var i = 0; i < names.length; i++) { \r\n",
    "    if (names[i] === 'Geoff') { \r\n",
    "        console.log(i) \r\n",
    "    } \r\n",
    "} \r\n",
    "\r\n",
    "// the short way (Shows only the first Geoff)\r\n",
    "\r\n",
    "console.log(names.indexOf('Geoff')) "
   ],
   "outputs": [
    {
     "output_type": "stream",
     "name": "stdout",
     "text": [
      "3\n",
      "5\n",
      "3\n"
     ]
    }
   ],
   "metadata": {}
  },
  {
   "cell_type": "code",
   "execution_count": 24,
   "source": [
    "// to reverse the order of the elements in an array\r\n",
    "var names = [ 'John', 'Jim', 'Jane', 'Geoff', 'Jill', 'Geoff' ] \r\n",
    "\r\n",
    "console.log(names.reverse())\r\n",
    "console.log(names)\r\n",
    "console.log(names.reverse())\r\n",
    "console.log(names)"
   ],
   "outputs": [
    {
     "output_type": "stream",
     "name": "stdout",
     "text": [
      "[ 'Geoff', 'Jill', 'Geoff', 'Jane', 'Jim', 'John' ]\n",
      "[ 'Geoff', 'Jill', 'Geoff', 'Jane', 'Jim', 'John' ]\n",
      "[ 'John', 'Jim', 'Jane', 'Geoff', 'Jill', 'Geoff' ]\n",
      "[ 'John', 'Jim', 'Jane', 'Geoff', 'Jill', 'Geoff' ]\n"
     ]
    }
   ],
   "metadata": {}
  },
  {
   "cell_type": "code",
   "execution_count": 31,
   "source": [
    "// multidimensional array\r\n",
    "var studentInfo = [\r\n",
    "    [[\"John Doe\", \"Biff\", \"Killer\"] , \"W123456\"], [\"PROG1700\", \"DBAS1700\", \"NETW1200\"] \r\n",
    "]\r\n",
    "studentInfo[0][0][1]"
   ],
   "outputs": [
    {
     "output_type": "execute_result",
     "data": {
      "text/plain": [
       "'Biff'"
      ]
     },
     "metadata": {},
     "execution_count": 31
    }
   ],
   "metadata": {}
  },
  {
   "cell_type": "code",
   "execution_count": 39,
   "source": [
    "// slicing\r\n",
    "var nums = [1, 2, 3, 4, 5]\r\n",
    "\r\n",
    "console.log(nums.slice(0,4))\r\n",
    "console.log(nums)\r\n",
    "\r\n",
    "var smaller = nums.slice(0,4)\r\n",
    "console.log(smaller)\r\n",
    "\r\n",
    "var latterHalf = nums.slice(2)\r\n",
    "console.log(latterHalf)"
   ],
   "outputs": [
    {
     "output_type": "stream",
     "name": "stdout",
     "text": [
      "[ 1, 2, 3, 4 ]\n",
      "[ 1, 2, 3, 4, 5 ]\n",
      "[ 1, 2, 3, 4 ]\n",
      "[ 3, 4, 5 ]\n"
     ]
    }
   ],
   "metadata": {}
  },
  {
   "cell_type": "code",
   "execution_count": 43,
   "source": [
    "// strings as arrays\r\n",
    "var str = \"123456789\"\r\n",
    "console.log(str[2])\r\n",
    "console.log(str.slice(0,5))"
   ],
   "outputs": [
    {
     "output_type": "stream",
     "name": "stdout",
     "text": [
      "3\n",
      "12345\n"
     ]
    }
   ],
   "metadata": {}
  },
  {
   "cell_type": "code",
   "execution_count": 44,
   "source": [
    "//changing a string to an array\r\n",
    "var str = \"Hello World\"\r\n",
    "var array = Array.from(str)\r\n",
    "str[0] ='X' // doesn't do anything\r\n",
    "console.log(str)\r\n",
    "array[0] ='X' // This works!\r\n",
    "console.log(array)\r\n",
    "\r\n",
    "// convert array back to string separated by dashes\r\n",
    "var str2 = array.join('-')\r\n",
    "console.log(str2)"
   ],
   "outputs": [
    {
     "output_type": "stream",
     "name": "stdout",
     "text": [
      "Hello World\n",
      "[\n",
      "  'X', 'e', 'l', 'l',\n",
      "  'o', ' ', 'W', 'o',\n",
      "  'r', 'l', 'd'\n",
      "]\n",
      "X-e-l-l-o- -W-o-r-l-d\n"
     ]
    }
   ],
   "metadata": {}
  },
  {
   "cell_type": "code",
   "execution_count": 1,
   "source": [
    "// Create a program that takes a word or phrase, input from the user, and displays the reverse of that input.\r\n",
    "// E.g.\r\n",
    "// Apple => elppA\r\n",
    "\r\n",
    "var userInput = \"Apple\"\r\n",
    "\r\n",
    "//long way\r\n",
    "var reversed = \"\"\r\n",
    "for  (let i = userInput.length -1; i >=0; i--) {\r\n",
    "    reversed += userInput[i]\r\n",
    "}\r\n",
    "console.log(reversed)\r\n",
    "\r\n",
    "//shorter way\r\n",
    "var array = Array.from(userInput)\r\n",
    "var reversed = array.reverse().join('')\r\n",
    "console.log(array)\r\n",
    "console.log(reversed)"
   ],
   "outputs": [
    {
     "output_type": "stream",
     "name": "stdout",
     "text": [
      "elppA\n",
      "[ 'e', 'l', 'p', 'p', 'A' ]\n",
      "elppA\n"
     ]
    }
   ],
   "metadata": {}
  },
  {
   "cell_type": "code",
   "execution_count": 4,
   "source": [
    "// extra challenge\r\n",
    "// As an extra challenge, reverse everything except the first and last letters.\r\n",
    "// e.g.\r\n",
    "// Apple => Alppe\r\n",
    "\r\n",
    "var userInput = \"Apple\"\r\n",
    "\r\n",
    "var array = Array.from(userInput)\r\n",
    "\r\n",
    "var middle = array.slice(1,-1)\r\n",
    "var middleString = middle.reverse().join('')\r\n",
    "\r\n",
    "console.log(array[0] + middleString + array[array.length-1])"
   ],
   "outputs": [
    {
     "output_type": "stream",
     "name": "stdout",
     "text": [
      "Alppe\n"
     ]
    }
   ],
   "metadata": {}
  },
  {
   "cell_type": "code",
   "execution_count": 3,
   "source": [
    "// Destructuring an array\r\n",
    "\r\n",
    "var a = 1\r\n",
    "var b = 2\r\n",
    "var c = 3\r\n",
    "\r\n",
    "var array = [a, b, c]\r\n",
    "\r\n",
    "// add one to each element\r\n",
    "for (var i = 0; i < array.length; i++) {\r\n",
    "    array[i]++;\r\n",
    "}\r\n",
    "\r\n",
    "[a, b, c] = array\r\n",
    "\r\n",
    "console.log(a, b, c)"
   ],
   "outputs": [
    {
     "output_type": "stream",
     "name": "stdout",
     "text": [
      "2 3 4\n"
     ]
    }
   ],
   "metadata": {}
  },
  {
   "cell_type": "code",
   "execution_count": 9,
   "source": [
    "// Destructuring large array to few variables\r\n",
    "var array = [1, 2, 3, 4, 5]\r\n",
    "var [a, b, c] = array\r\n",
    "\r\n",
    "console.log(a)\r\n",
    "console.log(b)\r\n",
    "console.log(c)\r\n",
    "\r\n",
    "console.log(\"_\".repeat(10))\r\n",
    "\r\n",
    "\r\n",
    "// you must have the ellipsis on the last element\r\n",
    "var [a, b, ...c] = array\r\n",
    "\r\n",
    "console.log(a)\r\n",
    "console.log(b)\r\n",
    "console.log(c)"
   ],
   "outputs": [
    {
     "output_type": "stream",
     "name": "stdout",
     "text": [
      "1\n",
      "2\n",
      "3\n",
      "__________\n",
      "1\n",
      "2\n",
      "[ 3, 4, 5 ]\n"
     ]
    }
   ],
   "metadata": {}
  },
  {
   "cell_type": "code",
   "execution_count": 100,
   "source": [
    "var assignments = [\"Assignment1\", \"Assignment2\", \"Assignment3\", \"Assignment4\", \"Assignment5\"]\r\n",
    "// var last = assignments.pop()\r\n",
    "\r\n",
    "// for (i = 0; i < assignments.length; i++) {\r\n",
    "//     console.log(assignments[i])\r\n",
    "// }\r\n",
    "\r\n",
    "// for (var i = 0; i < assignments.length; i++) { \r\n",
    "//     if (assignments[i] === 'Assignment3') { \r\n",
    "//         console.log(i)\r\n",
    "//     } \r\n",
    "// } \r\n",
    "\r\n",
    "// assignments[2] = ''\r\n",
    "\r\n",
    "// for (i = 0; i < assignments.length; i++) {\r\n",
    "//     console.log(assignments[i])\r\n",
    "// }\r\n",
    "\r\n",
    "var assignment = assignments.filter(assignment.)\r\n",
    "\r\n",
    "for (i = 0; i < assignments.length; i++) {\r\n",
    "    console.log(assignment)\r\n",
    "}\r\n",
    "\r\n",
    "// console.log(assignments[0], assignments[1], assignments[3], assignments[4])"
   ],
   "outputs": [
    {
     "output_type": "stream",
     "name": "stdout",
     "text": [
      "Assignment1\n",
      "Assignment2\n",
      "\n",
      "Assignment4\n",
      "Assignment5\n"
     ]
    }
   ],
   "metadata": {}
  },
  {
   "cell_type": "code",
   "execution_count": 35,
   "source": [
    "var courses = [\r\n",
    "    [\"PROG1700\", \"Logic and Programming I\"], [\"OSYS1200\", \"Introduction To Windows Administration\"], [\"WEBD1000\", \"Website Development\"], [\"NETW1700\", \"Introduction to Networking & Security\"], [\"DBAS1007\", \"Data Fundamentals\"], [\"COMM1700\", \"Professional Practices for IT I\"]\r\n",
    "]\r\n",
    "\r\n",
    "console.log(courses[0][1], courses[5][0])\r\n"
   ],
   "outputs": [
    {
     "output_type": "stream",
     "name": "stdout",
     "text": [
      "Logic and Programming I COMM1700\n"
     ]
    }
   ],
   "metadata": {}
  },
  {
   "cell_type": "code",
   "execution_count": 26,
   "source": [
    "var word = 'elite hacker'\r\n",
    "\r\n",
    "word = Array.from(word)\r\n",
    "for (i = 0; i < word.length; i++) {\r\n",
    "    if (i % 2 == 0) {\r\n",
    "        word[i] = word[i].toUpperCase()\r\n",
    "    } \r\n",
    "\r\n",
    "}\r\n",
    "\r\n",
    "console.log(word.join(\"\"))"
   ],
   "outputs": [
    {
     "output_type": "stream",
     "name": "stdout",
     "text": [
      "ElItE HaCkEr\n"
     ]
    }
   ],
   "metadata": {}
  },
  {
   "cell_type": "code",
   "execution_count": 31,
   "source": [
    "message = 'This is the great and powerful Oz.'\r\n",
    "\r\n",
    "// add your code here\r\n",
    "var obj = { 'a':'C', 'b':'E', 'c':'T', 'd':'Q', 'e':'R', 'f':'P', 'g':'D', 'h':'I', 'i':'A', 'j':'S', 'k':'U', 'l':'W', 'm':'B', 'n':'J', 'o':'H', 'p':'L', 'q':'Z', 'r':'Y', 's':'M', 't':'F', 'u':'G', 'v':'X', 'w':'O', 'x':'K', 'y':'N', 'z':'V' }\r\n",
    "\r\n",
    "\r\n",
    "message = Array.from(message)\r\n",
    "\r\n",
    "var encrypt = \"\"\r\n",
    "\r\n",
    "for (i = 0; i < message.length; i++) {\r\n",
    "    currentLetter = message[i].toLowerCase() //as taking the values change them to lowercase to find all of them \r\n",
    "\r\n",
    "    if (currentLetter > 'a' && currentLetter < 'z'){\r\n",
    "        encrypt += obj[currentLetter] // checks letter from dictionary\r\n",
    "    }\r\n",
    "\r\n",
    "}\r\n",
    "\r\n",
    "\r\n",
    "console.log(encrypt.toUpperCase())\r\n",
    "\r\n"
   ],
   "outputs": [
    {
     "output_type": "stream",
     "name": "stdout",
     "text": [
      "FIAMAMFIRDYRFJQLHORYPGWH\n"
     ]
    }
   ],
   "metadata": {}
  },
  {
   "cell_type": "code",
   "execution_count": 20,
   "source": [
    "var text = \"Nova Scotia Community College\"\r\n",
    "\r\n",
    "// add your code here\r\n",
    "// var acronym = ''\r\n",
    "\r\n",
    "// for(i = 0; i < text.length; i++) {\r\n",
    "//     console.log(text)\r\n",
    "// }\r\n",
    "\r\n",
    "var matches = text.match(/\\b(\\w)/g)\r\n",
    "var first = matches.join('')\r\n",
    "\r\n",
    "console.log(first)"
   ],
   "outputs": [
    {
     "output_type": "stream",
     "name": "stdout",
     "text": [
      "NSCC\n"
     ]
    }
   ],
   "metadata": {}
  },
  {
   "cell_type": "code",
   "execution_count": 1,
   "source": [
    "// create a program that generates an array containing the name and mark \r\n",
    "// of the assignment with the lowest grade\r\n",
    "\r\n",
    "// 3 pts\r\n",
    "\r\n",
    "var assignments = {\r\n",
    "    'Assignment 1': 45,\r\n",
    "    'Assignment 2': 65,\r\n",
    "    'Assignment 3': 12,\r\n",
    "    'Assignment 4': 78,\r\n",
    "    'Assignment 5': 52\r\n",
    "}\r\n",
    "\r\n",
    "// put your code here\r\n",
    "\r\n",
    "\r\n",
    "// for ( i=0 ; i < marks.length; i++){\r\n",
    "//     // for ( j=0 ; j < marks.length; j++){\r\n",
    "//         m = Math.min(marks[i][1])\r\n",
    "        \r\n",
    "//     // }\r\n",
    "//     console.log(m)\r\n",
    "//  }\r\n",
    "\r\n",
    "var assignment=[], lowestAssignment, lowestGrade = 100\r\n",
    "\r\n",
    "for (var key of Object.keys(assignments)){\r\n",
    "    if (assignments[key] < lowestGrade){\r\n",
    "        lowestGrade = assignments[key]\r\n",
    "        lowestAssignment = key\r\n",
    "    }\r\n",
    "}\r\n",
    "\r\n",
    "assignment[0] = lowestAssignment\r\n",
    "assignment[1] = lowestGrade\r\n",
    "\r\n",
    "console.log(assignment)"
   ],
   "outputs": [
    {
     "output_type": "stream",
     "name": "stdout",
     "text": [
      "[ 'Assignment 3', 12 ]\n"
     ]
    }
   ],
   "metadata": {}
  },
  {
   "cell_type": "code",
   "execution_count": 56,
   "source": [
    "// create a program that converts a date in the format \"mm/dd/yy\"\r\n",
    "// to a date in the format \"dd-mmm-yyyy\" using the provided string.\r\n",
    "// e.g. 10/25/19 => 25-Oct-2019\r\n",
    "// Note: you can assume all dates are >= 2000\r\n",
    "\r\n",
    "// 3 pts\r\n",
    "\r\n",
    "var date = \"10/25/19\" // sample date\r\n",
    "\r\n",
    "// use this provided string\r\n",
    "var months = \"JanFebMarAprMayJunJulAugSepOctNovDec\"\r\n",
    "\r\n",
    "// put your code here\r\n",
    "\r\n",
    "var date = date.split('/')\r\n",
    "\r\n",
    "console.log(date[1] + '-' + months.substring(date[0] * 3, date[0] * 2 + 7) + '-' + '20' + date[2])"
   ],
   "outputs": [
    {
     "output_type": "stream",
     "name": "stdout",
     "text": [
      "25-Oct-2019\n"
     ]
    }
   ],
   "metadata": {}
  },
  {
   "cell_type": "code",
   "execution_count": 5,
   "source": [
    "// create a program to capitalize the first letter of each sentence.\r\n",
    "// the output should look like this:\r\n",
    "\r\n",
    "// This is a story about a man named jed.\r\n",
    "// A poor mountaineer. Barely kept his family fed.\r\n",
    "// Then one day he was shooting at some food,\r\n",
    "// and out from the ground came a bubblin' crude.\r\n",
    "\r\n",
    "// 5 pts\r\n",
    "\r\n",
    "var story = `\r\n",
    "this is a story about a man named jed.\r\n",
    "a poor mountaineer. barely kept his family fed.\r\n",
    "then one day he was shooting at some food,\r\n",
    "and out from the ground came a bubblin' crude.\r\n",
    "`\r\n",
    "\r\n",
    "// put your code here\r\n",
    "\r\n",
    "var capital = Array.from(story)\r\n",
    "\r\n",
    "capital[1] = capital[1].toUpperCase()\r\n",
    "\r\n",
    "for(i = 0; i < capital.length; i++) {\r\n",
    "    var letter = capital[i]\r\n",
    "        if (letter == '.' && i + 2 < capital.length){\r\n",
    "            capital[i + 2] = capital[i + 2].toUpperCase()\r\n",
    "        }\r\n",
    "    }\r\n",
    "\r\n",
    "    console.log(capital.join(''))"
   ],
   "outputs": [
    {
     "output_type": "stream",
     "name": "stdout",
     "text": [
      "\n",
      "This is a story about a man named jed.\n",
      "A poor mountaineer. Barely kept his family fed.\n",
      "Then one day he was shooting at some food,\n",
      "and out from the ground came a bubblin' crude.\n",
      "\n"
     ]
    }
   ],
   "metadata": {}
  },
  {
   "cell_type": "code",
   "execution_count": null,
   "source": [],
   "outputs": [],
   "metadata": {}
  },
  {
   "cell_type": "code",
   "execution_count": null,
   "source": [],
   "outputs": [],
   "metadata": {}
  },
  {
   "cell_type": "code",
   "execution_count": null,
   "source": [],
   "outputs": [],
   "metadata": {}
  }
 ],
 "metadata": {
  "orig_nbformat": 4,
  "language_info": {
   "name": "javascript",
   "version": "16.9.1",
   "mimetype": "application/javascript",
   "file_extension": ".js"
  },
  "kernelspec": {
   "name": "javascript",
   "display_name": "Javascript (Node.js)",
   "language": "javascript"
  }
 },
 "nbformat": 4,
 "nbformat_minor": 2
}