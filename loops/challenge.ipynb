{
 "cells": [
  {
   "cell_type": "code",
   "execution_count": null,
   "source": [
    "// Challenge \r\n",
    "// Create a program that determines if a word is a palindrome\r\n",
    "var prompt = require(\"prompt-sync\")()\r\n",
    "\r\n",
    "do{\r\n",
    "var userInput = prompt(\"Enter a word: \")\r\n",
    "\r\n",
    "\r\n",
    "var array = Array.from(userInput)\r\n",
    "var reversed = array.reverse().join('')\r\n",
    "\r\n",
    "if(userInput == reversed) {\r\n",
    "    console.log(\"The word is a palindrome.\")\r\n",
    "}\r\n",
    "else{\r\n",
    "    console.log(\"The word is NOT a palindrome.\")\r\n",
    "}\r\n",
    "}while(end == \"Y\")"
   ],
   "outputs": [],
   "metadata": {}
  }
 ],
 "metadata": {
  "orig_nbformat": 4,
  "language_info": {
   "name": "javascript"
  },
  "kernelspec": {
   "name": "javascript",
   "display_name": "Javascript (Node.js)",
   "language": "javascript"
  }
 },
 "nbformat": 4,
 "nbformat_minor": 2
}