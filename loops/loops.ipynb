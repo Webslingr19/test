{
 "cells": [
  {
   "cell_type": "code",
   "execution_count": 1,
   "source": [
    "var num = 5\r\n",
    "while (num < 10){\r\n",
    "    console.log(num)\r\n",
    "    num = num + 1\r\n",
    "}\r\n"
   ],
   "outputs": [
    {
     "output_type": "stream",
     "name": "stdout",
     "text": [
      "5\n",
      "6\n",
      "7\n",
      "8\n",
      "9\n"
     ]
    },
    {
     "output_type": "execute_result",
     "data": {
      "text/plain": [
       "10"
      ]
     },
     "metadata": {},
     "execution_count": 1
    }
   ],
   "metadata": {}
  },
  {
   "cell_type": "code",
   "execution_count": 2,
   "source": [
    "var prompt = require(\"prompt-sync\")()\r\n",
    "\r\n",
    "// ask a user for their password\r\n",
    "var password = \"\"\r\n",
    "while(password === \"\"){\r\n",
    "    password = prompt(\"Enter a password: \")\r\n",
    "}\r\n",
    "console.log(\"Welcome to the matrix!\")"
   ],
   "outputs": [
    {
     "output_type": "error",
     "ename": "ReferenceError",
     "evalue": "prompt is not defined",
     "traceback": [
      "evalmachine.<anonymous>:4",
      "    password = prompt(\"Enter a password: \")",
      "    ^",
      "",
      "ReferenceError: prompt is not defined",
      "    at evalmachine.<anonymous>:4:5",
      "    at Script.runInThisContext (node:vm:129:12)",
      "    at Object.runInThisContext (node:vm:305:38)",
      "    at run ([eval]:1054:15)",
      "    at onRunRequest ([eval]:888:18)",
      "    at onMessage ([eval]:848:13)",
      "    at process.emit (node:events:394:28)",
      "    at emit (node:internal/child_process:917:12)",
      "    at processTicksAndRejections (node:internal/process/task_queues:84:21)"
     ]
    }
   ],
   "metadata": {}
  },
  {
   "cell_type": "code",
   "execution_count": null,
   "source": [
    "var prompt = require(\"prompt-sync\")()\r\n",
    "\r\n",
    "// ask the user to type in numbers until they are done\r\n",
    "var num = 0\r\n",
    "var end = \"\"\r\n",
    "while(end != \"Y\") {\r\n",
    "    num = prompt(\"Enter a number: \")\r\n",
    "    end = prompt(\"Enter 'Y' to end.\")\r\n",
    "}"
   ],
   "outputs": [],
   "metadata": {}
  },
  {
   "cell_type": "code",
   "execution_count": null,
   "source": [
    "// variable scope\r\n",
    "var globalVariable = \"global\"\r\n",
    "if (globalVariable === \"global\") {\r\n",
    "    var localVariable = \"local\"\r\n",
    "}\r\n",
    "\r\n",
    "console.log(globalVariable)\r\n",
    "console.log(localVariable)"
   ],
   "outputs": [],
   "metadata": {}
  },
  {
   "cell_type": "code",
   "execution_count": null,
   "source": [
    "//for loop\r\n",
    "for (var num = 0; num < 5; num = num + 1){\r\n",
    "    console.log(num)\r\n",
    "}"
   ],
   "outputs": [],
   "metadata": {}
  },
  {
   "cell_type": "code",
   "execution_count": null,
   "source": [
    "//for loop\r\n",
    "for (var i = 0; i < 5; i = i++){\r\n",
    "    console.log(i)\r\n",
    "}"
   ],
   "outputs": [],
   "metadata": {}
  },
  {
   "cell_type": "code",
   "execution_count": 1,
   "source": [
    "//for loop\r\n",
    "var i =3\r\n",
    "for (; i < 5;){\r\n",
    "    console.log(i++)\r\n",
    "}"
   ],
   "outputs": [
    {
     "output_type": "stream",
     "name": "stdout",
     "text": [
      "3\n",
      "4\n"
     ]
    }
   ],
   "metadata": {}
  },
  {
   "cell_type": "code",
   "execution_count": 2,
   "source": [
    "//for loop\r\n",
    "var i =3\r\n",
    "for (; i < 5;){\r\n",
    "    console.log(++i)\r\n",
    "}"
   ],
   "outputs": [
    {
     "output_type": "stream",
     "name": "stdout",
     "text": [
      "4\n",
      "5\n"
     ]
    }
   ],
   "metadata": {}
  },
  {
   "cell_type": "code",
   "execution_count": 1,
   "source": [
    "for (var num = 1; num <= 12; num *= 2) {\r\n",
    "    console.log(num)\r\n",
    "}"
   ],
   "outputs": [
    {
     "output_type": "stream",
     "name": "stdout",
     "text": [
      "1\n",
      "2\n",
      "4\n",
      "8\n"
     ]
    }
   ],
   "metadata": {}
  },
  {
   "cell_type": "code",
   "execution_count": null,
   "source": [
    "// break exits the loop\r\n",
    "var num = 0\r\n",
    "while (num < 5) {\r\n",
    "    if (++num === 3){\r\n",
    "        break\r\n",
    "    }\r\n",
    "    console.log(num)\r\n",
    "}"
   ],
   "outputs": [],
   "metadata": {}
  },
  {
   "cell_type": "code",
   "execution_count": null,
   "source": [
    "// crappy graphics example\r\n",
    "// draw a right-angle triangle\r\n",
    "\r\n",
    "// o\r\n",
    "// oo\r\n",
    "// ooo\r\n",
    "// oooo\r\n",
    "// ooooo\r\n",
    "// oooooo\r\n",
    "\r\n",
    "for (var i = 1; i <= 6; i++) {\r\n",
    "    console.log(\" \".repeat(6 - i), \"o\".repeat(i))\r\n",
    "}"
   ],
   "outputs": [
    {
     "output_type": "stream",
     "name": "stdout",
     "text": [
      "      o\n",
      "     oo\n",
      "    ooo\n",
      "   oooo\n",
      "  ooooo\n",
      " oooooo\n"
     ]
    }
   ],
   "metadata": {}
  },
  {
   "cell_type": "code",
   "execution_count": 1,
   "source": [
    "var enteredCode = '12346' // is this the secret code?\r\n",
    "var secretCode = '12345'\r\n",
    "\r\n",
    "if (enteredCode == secretCode) {\r\n",
    "    console.log(\"UNLOCKED!\")\r\n",
    "} else{\r\n",
    "    console.log(\"ALARM!\")\r\n",
    "}\r\n"
   ],
   "outputs": [
    {
     "output_type": "stream",
     "name": "stdout",
     "text": [
      "ALARM!\n"
     ]
    }
   ],
   "metadata": {}
  },
  {
   "cell_type": "code",
   "execution_count": null,
   "source": [],
   "outputs": [],
   "metadata": {}
  }
 ],
 "metadata": {
  "orig_nbformat": 4,
  "language_info": {
   "name": "javascript",
   "version": "16.9.1",
   "mimetype": "application/javascript",
   "file_extension": ".js"
  },
  "kernelspec": {
   "name": "javascript",
   "display_name": "Javascript (Node.js)",
   "language": "javascript"
  }
 },
 "nbformat": 4,
 "nbformat_minor": 2
}