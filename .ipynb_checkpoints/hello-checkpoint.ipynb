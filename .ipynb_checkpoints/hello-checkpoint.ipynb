{
 "cells": [
  {
   "cell_type": "code",
   "execution_count": null,
   "metadata": {},
   "outputs": [],
   "source": [
    "console.log(\"Hello World!\")"
   ]
  },
  {
   "cell_type": "code",
   "execution_count": null,
   "metadata": {},
   "outputs": [],
   "source": []
  },
  {
   "cell_type": "code",
   "execution_count": null,
   "metadata": {},
   "outputs": [],
   "source": [
    "var myName = \"Jason\"\r\n",
    "console.log(\"Hello,\",myName)"
   ]
  },
  {
   "cell_type": "code",
   "execution_count": null,
   "metadata": {},
   "outputs": [],
   "source": [
    "var myName = \"Jason\"\r\n",
    "console.log(\"Hello,\",myName)"
   ]
  },
  {
   "cell_type": "code",
   "execution_count": null,
   "metadata": {},
   "outputs": [],
   "source": [
    "var myName = \"Jason\"\r\n",
    "console.log(\"Hello,\", myName)"
   ]
  },
  {
   "cell_type": "code",
   "execution_count": 1,
   "metadata": {},
   "outputs": [
    {
     "name": "stdout",
     "output_type": "stream",
     "text": [
      "Hello, Jason\n"
     ]
    }
   ],
   "source": [
    "var myName = \"Jason\"\r\n",
    "console.log(\"Hello,\",myName)"
   ]
  },
  {
   "cell_type": "code",
   "execution_count": 1,
   "metadata": {},
   "outputs": [
    {
     "data": {
      "text/plain": [
       "4"
      ]
     },
     "execution_count": 1,
     "metadata": {},
     "output_type": "execute_result"
    }
   ],
   "source": [
    "2+2"
   ]
  },
  {
   "cell_type": "code",
   "execution_count": 2,
   "metadata": {},
   "outputs": [
    {
     "data": {
      "text/plain": [
       "2"
      ]
     },
     "execution_count": 2,
     "metadata": {},
     "output_type": "execute_result"
    }
   ],
   "source": [
    "4-2"
   ]
  },
  {
   "cell_type": "code",
   "execution_count": 3,
   "metadata": {},
   "outputs": [
    {
     "data": {
      "text/plain": [
       "4"
      ]
     },
     "execution_count": 3,
     "metadata": {},
     "output_type": "execute_result"
    }
   ],
   "source": [
    "2 * 2"
   ]
  },
  {
   "cell_type": "code",
   "execution_count": 4,
   "metadata": {},
   "outputs": [
    {
     "data": {
      "text/plain": [
       "1"
      ]
     },
     "execution_count": 4,
     "metadata": {},
     "output_type": "execute_result"
    }
   ],
   "source": [
    "2 / 2"
   ]
  },
  {
   "cell_type": "code",
   "execution_count": 5,
   "metadata": {},
   "outputs": [
    {
     "data": {
      "text/plain": [
       "1"
      ]
     },
     "execution_count": 5,
     "metadata": {},
     "output_type": "execute_result"
    }
   ],
   "source": [
    "5 % 2"
   ]
  },
  {
   "cell_type": "code",
   "execution_count": 6,
   "metadata": {},
   "outputs": [
    {
     "data": {
      "text/plain": [
       "1"
      ]
     },
     "execution_count": 6,
     "metadata": {},
     "output_type": "execute_result"
    }
   ],
   "source": [
    "5 % 2 //modulus for division(i.e the remainder of a long decision)"
   ]
  },
  {
   "cell_type": "code",
   "execution_count": 7,
   "metadata": {},
   "outputs": [
    {
     "data": {
      "text/plain": [
       "25"
      ]
     },
     "execution_count": 7,
     "metadata": {},
     "output_type": "execute_result"
    }
   ],
   "source": [
    "/* \r\n",
    " How to create an exponent in JavaScript\r\n",
    "*/\r\n",
    "\r\n",
    "5 ** 2"
   ]
  },
  {
   "cell_type": "code",
   "execution_count": 1,
   "metadata": {},
   "outputs": [
    {
     "name": "stdout",
     "output_type": "stream",
     "text": [
      "2.5\n"
     ]
    }
   ],
   "source": [
    "/* division */\r\n",
    "console.log(5 / 2)"
   ]
  },
  {
   "cell_type": "code",
   "execution_count": 2,
   "metadata": {},
   "outputs": [
    {
     "data": {
      "text/plain": [
       "2"
      ]
     },
     "execution_count": 2,
     "metadata": {},
     "output_type": "execute_result"
    }
   ],
   "source": [
    "// floor - removes decimal\r\n",
    "Math.floor(5 / 2)"
   ]
  },
  {
   "cell_type": "code",
   "execution_count": 3,
   "metadata": {},
   "outputs": [
    {
     "data": {
      "text/plain": [
       "3.141592653589793"
      ]
     },
     "execution_count": 3,
     "metadata": {},
     "output_type": "execute_result"
    }
   ],
   "source": [
    "// PI\r\n",
    "Math.PI"
   ]
  },
  {
   "cell_type": "code",
   "execution_count": 4,
   "metadata": {},
   "outputs": [
    {
     "data": {
      "text/plain": [
       "5"
      ]
     },
     "execution_count": 4,
     "metadata": {},
     "output_type": "execute_result"
    }
   ],
   "source": [
    "// Square roots\r\n",
    "Math.sqrt(25)"
   ]
  },
  {
   "cell_type": "code",
   "execution_count": 5,
   "metadata": {},
   "outputs": [
    {
     "data": {
      "text/plain": [
       "8"
      ]
     },
     "execution_count": 5,
     "metadata": {},
     "output_type": "execute_result"
    }
   ],
   "source": [
    "// another way to do exponents\r\n",
    "Math.pow(2, 3)"
   ]
  },
  {
   "cell_type": "code",
   "execution_count": 6,
   "metadata": {},
   "outputs": [
    {
     "data": {
      "text/plain": [
       "'3.14159'"
      ]
     },
     "execution_count": 6,
     "metadata": {},
     "output_type": "execute_result"
    }
   ],
   "source": [
    "// remove some decimal points\r\n",
    "Math.PI.toFixed(5)"
   ]
  },
  {
   "cell_type": "code",
   "execution_count": 8,
   "metadata": {},
   "outputs": [
    {
     "name": "stdout",
     "output_type": "stream",
     "text": [
      "4660 1234 1001000110100\n"
     ]
    }
   ],
   "source": [
    "// hexadecimal\r\n",
    "var hex = 0x1234\r\n",
    "var dec = 1234\r\n",
    "console.log(hex, dec, hex.toString(2))"
   ]
  },
  {
   "cell_type": "code",
   "execution_count": 9,
   "metadata": {},
   "outputs": [
    {
     "data": {
      "text/plain": [
       "'28'"
      ]
     },
     "execution_count": 9,
     "metadata": {},
     "output_type": "execute_result"
    }
   ],
   "source": [
    "// different data types\r\n",
    "2 + \"8\""
   ]
  },
  {
   "cell_type": "code",
   "execution_count": 11,
   "metadata": {},
   "outputs": [
    {
     "data": {
      "text/plain": [
       "'Hello, everyone'"
      ]
     },
     "execution_count": 11,
     "metadata": {},
     "output_type": "execute_result"
    }
   ],
   "source": [
    "// String concatenation\r\n",
    "\"Hello, \" + \"everyone\""
   ]
  },
  {
   "cell_type": "code",
   "execution_count": 19,
   "metadata": {},
   "outputs": [
    {
     "name": "stdout",
     "output_type": "stream",
     "text": [
      "Some Text\n",
      "12345\n",
      "Some Text 12345  Some more Text 55\n",
      "num = 12345\n",
      "Name: Bob Jones, ID: W12345\n"
     ]
    }
   ],
   "source": [
    "// different uses of console.log\r\n",
    "\r\n",
    "// Simple Text\r\n",
    "console.log(\"Some Text\")\r\n",
    "\r\n",
    "// Simple Variable\r\n",
    "var num = 12345\r\n",
    "console.log(num)\r\n",
    "\r\n",
    "// Multiple Items\r\n",
    "console.log(\"Some Text\", num, \" Some more Text\", 55)\r\n",
    "\r\n",
    "// Variable Substitution\r\n",
    "console.log(\"num = %i\", num)\r\n",
    "\r\n",
    "var firstName = \"Bob\"\r\n",
    "var lastName = \"Jones\"\r\n",
    "var studentID = \"W12345\"\r\n",
    "console.log(\"Name: %s %s, ID: %s\", firstName, lastName, studentID)"
   ]
  },
  {
   "cell_type": "code",
   "execution_count": 20,
   "metadata": {},
   "outputs": [
    {
     "name": "stdout",
     "output_type": "stream",
     "text": [
      "red green\n"
     ]
    }
   ],
   "source": [
    "// Are variables case sensitive?\r\n",
    "var apple = \"red\"\r\n",
    "var Apple = \"green\"\r\n",
    "console.log(apple, Apple)"
   ]
  },
  {
   "cell_type": "code",
   "execution_count": 21,
   "metadata": {},
   "outputs": [
    {
     "name": "stdout",
     "output_type": "stream",
     "text": [
      "Name: Bob Jones, ID: W12345\n"
     ]
    }
   ],
   "source": [
    "// Newer variable substitution\r\n",
    "\r\n",
    "var firstName = \"Bob\"\r\n",
    "var lastName = \"Jones\"\r\n",
    "var studentID = \"W12345\"\r\n",
    "console.log(`Name: ${firstName} ${lastName}, ID: ${studentID}`)"
   ]
  },
  {
   "cell_type": "code",
   "execution_count": 22,
   "metadata": {},
   "outputs": [
    {
     "data": {
      "text/plain": [
       "'-*--*--*--*--*--*--*--*--*--*-'"
      ]
     },
     "execution_count": 22,
     "metadata": {},
     "output_type": "execute_result"
    }
   ],
   "source": [
    "// Repeat characters\r\n",
    "\r\n",
    "\"-*-\".repeat(10)"
   ]
  },
  {
   "cell_type": "code",
   "execution_count": 93,
   "metadata": {},
   "outputs": [
    {
     "name": "stdout",
     "output_type": "stream",
     "text": [
      "This is \n",
      "on multiple \n",
      "lines.\n"
     ]
    }
   ],
   "source": [
    "console.log(\"This is \\non multiple \\nlines.\")"
   ]
  },
  {
   "cell_type": "code",
   "execution_count": null,
   "metadata": {},
   "outputs": [],
   "source": []
  },
  {
   "cell_type": "code",
   "execution_count": 11,
   "metadata": {},
   "outputs": [
    {
     "name": "stdout",
     "output_type": "stream",
     "text": [
      "false\n",
      "false\n",
      "true\n",
      "false\n",
      "true\n"
     ]
    }
   ],
   "source": [
    "//COMPARISON VARIABLES\n",
    "var number1 = 3\n",
    "var number2 = 6\n",
    "\n",
    "//floating comparison\n",
    "// caution: be careful comparing float values as you might not get what you expect\n",
    "var float1 = 1.2345\n",
    "var float2 = 3.14159\n",
    "console.log(float1 === float2)\n",
    "console.log(float2 === Math.PI)\n",
    "console.log(1.00000001 === (1 + 0.00000001))\n",
    "\n",
    "// string comparison\n",
    "var string1 = \"abc\"\n",
    "var string2 = \"abd\"\n",
    "\n",
    "console.log(string1 === string2)\n",
    "console.log(string1  < string2)"
   ]
  },
  {
   "cell_type": "code",
   "execution_count": 9,
   "metadata": {},
   "outputs": [],
   "source": [
    "//  == ---> compares anything\n",
    "//  === ---> only compares to same datatype"
   ]
  },
  {
   "cell_type": "code",
   "execution_count": 15,
   "metadata": {},
   "outputs": [
    {
     "name": "stdout",
     "output_type": "stream",
     "text": [
      "Yes! 2 < 3!\n"
     ]
    }
   ],
   "source": [
    "// a simple decision\n",
    "if (2 < 3) {\n",
    "    console.log(\"Yes! 2 < 3!\")\n",
    "}"
   ]
  },
  {
   "cell_type": "code",
   "execution_count": 19,
   "metadata": {},
   "outputs": [
    {
     "name": "stdout",
     "output_type": "stream",
     "text": [
      "Hi! Bob!\n",
      "Hi! Bob!\n",
      "Hi! Bob!\n"
     ]
    }
   ],
   "source": [
    "// decision using variables\n",
    "var name = \"Bob\"\n",
    "if (name === \"Bob\") {\n",
    "    console.log(\"Hi! Bob!\")\n",
    "}\n",
    "\n",
    "// bad formatting\n",
    "if (name ===     \"Bob\" )\n",
    "{\n",
    "console.log(\"Hi! Bob!\")\n",
    "  }\n",
    "\n",
    "// good formatting\n",
    "if (name === \"Bob\") { //watch the position of \"whitespace\"\n",
    "    console.log(\"Hi! Bob!\") //indented 4 spaces\n",
    "}"
   ]
  },
  {
   "cell_type": "code",
   "execution_count": 22,
   "metadata": {},
   "outputs": [
    {
     "name": "stdout",
     "output_type": "stream",
     "text": [
      "1 != 2\n"
     ]
    }
   ],
   "source": [
    "// if - else statement\n",
    "var number1 = 1\n",
    "if (number1 === 2) {\n",
    "    console.log(\"1 = 2!\")\n",
    "} else {\n",
    "    console.log(\"1 != 2\")\n",
    "}"
   ]
  },
  {
   "cell_type": "code",
   "execution_count": 37,
   "metadata": {},
   "outputs": [
    {
     "name": "stdout",
     "output_type": "stream",
     "text": [
      "All hail!\n"
     ]
    }
   ],
   "source": [
    "// nested if statements\n",
    "var code = \"superAdministrat0r\"\n",
    "if (code === \"p@ssw0rd\") {\n",
    "    console.log(\"Welcome, user!\")\n",
    "} else \n",
    "    if (code === \"admin1strator\") {\n",
    "        console.log(\"Welcome, lord!\")\n",
    "    } else \n",
    "        if (code === \"superAdministrat0r\") {\n",
    "            console.log(\"All hail!\")\n",
    "        } else {\n",
    "            console.log(\"Login failed.\")\n",
    "        }\n",
    "    \n"
   ]
  },
  {
   "cell_type": "code",
   "execution_count": 39,
   "metadata": {},
   "outputs": [],
   "source": [
    "//    && = AND\n",
    "//    || = OR"
   ]
  },
  {
   "cell_type": "code",
   "execution_count": 45,
   "metadata": {},
   "outputs": [
    {
     "name": "stdout",
     "output_type": "stream",
     "text": [
      "Hi, John!\n"
     ]
    }
   ],
   "source": [
    "// compound if statement\n",
    "var number1 = 1234\n",
    "var name = \"John\"\n",
    "if (number1 === 123 && name === \"John\") {\n",
    "    console.log(\"AND!\")\n",
    "}\n",
    "\n",
    "if (number1 === 123 || name === \"John\") {\n",
    "    console.log(\"OR!\")\n",
    "}"
   ]
  },
  {
   "cell_type": "code",
   "execution_count": 52,
   "metadata": {},
   "outputs": [
    {
     "name": "stdout",
     "output_type": "stream",
     "text": [
      "Wow... that's long!\n"
     ]
    }
   ],
   "source": [
    "// a rather long example\n",
    "var number1 = 123\n",
    "var boolean1 = false\n",
    "var string1 = \"password\"\n",
    "var float1 = 3.1\n",
    "var character1 = 'x'\n",
    "if ((number1 === 123 && boolean1 === false) || \n",
    "    (string1 === \"password\" && float1 === 3.1 && character1 === 'x')) {\n",
    "    console.log(\"Wow... that's long!\")\n",
    "}"
   ]
  },
  {
   "cell_type": "code",
   "execution_count": null,
   "metadata": {},
   "outputs": [],
   "source": []
  },
  {
   "cell_type": "code",
   "execution_count": null,
   "metadata": {},
   "outputs": [],
   "source": []
  }
 ],
 "metadata": {
  "kernelspec": {
   "display_name": "Javascript (Node.js)",
   "language": "javascript",
   "name": "javascript"
  },
  "language_info": {
   "file_extension": ".js",
   "mimetype": "application/javascript",
   "name": "javascript",
   "version": "16.9.1"
  }
 },
 "nbformat": 4,
 "nbformat_minor": 4
}
