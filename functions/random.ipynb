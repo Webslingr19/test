{
 "cells": [
  {
   "cell_type": "code",
   "execution_count": 1,
   "source": [
    "// convert a string to an integer\r\n",
    "var str = \"12345a\"\r\n",
    "\r\n",
    "// parseInt - tries to convert a string to an integer\r\n",
    "var integer = parseInt(str)\r\n",
    "\r\n",
    "// Number - \"casts\" a string to a number\r\n",
    "\r\n",
    "var number = Number(str)\r\n",
    "\r\n",
    "console.log(`str = ${str}, integer = ${integer}, number = ${number}`)"
   ],
   "outputs": [
    {
     "output_type": "stream",
     "name": "stdout",
     "text": [
      "str = 12345a, integer = 12345, number = NaN\n"
     ]
    }
   ],
   "metadata": {}
  },
  {
   "cell_type": "code",
   "execution_count": null,
   "source": [],
   "outputs": [],
   "metadata": {}
  }
 ],
 "metadata": {
  "orig_nbformat": 4,
  "language_info": {
   "name": "javascript",
   "version": "16.9.1",
   "mimetype": "application/javascript",
   "file_extension": ".js"
  },
  "kernelspec": {
   "name": "javascript",
   "display_name": "Javascript (Node.js)",
   "language": "javascript"
  }
 },
 "nbformat": 4,
 "nbformat_minor": 2
}