{
 "cells": [
  {
   "cell_type": "code",
   "execution_count": 1,
   "source": [
    "//simple function\r\n",
    "function printHelloWorld() {\r\n",
    "    console.log(\"Hello World!\");\r\n",
    "}\r\n",
    "\r\n",
    "printHelloWorld();\r\n",
    "printHelloWorld();"
   ],
   "outputs": [
    {
     "output_type": "stream",
     "name": "stdout",
     "text": [
      "Hello World!\n",
      "Hello World!\n"
     ]
    }
   ],
   "metadata": {}
  },
  {
   "cell_type": "code",
   "execution_count": 2,
   "source": [
    "// parameters\r\n",
    "function helloWorld( greeting, word ) {\r\n",
    "    console.log(`${greeting}, ${word}!`);\r\n",
    "}\r\n",
    "helloWorld( \"Hello\", \"World\" );"
   ],
   "outputs": [
    {
     "output_type": "stream",
     "name": "stdout",
     "text": [
      "Hello, World!\n"
     ]
    }
   ],
   "metadata": {}
  },
  {
   "cell_type": "code",
   "execution_count": 3,
   "source": [
    "// parameters\r\n",
    "function helloWorld( greeting, word ) {\r\n",
    "    word = word + \"!\"\r\n",
    "    console.log(`${greeting}, ${word}`);\r\n",
    "}\r\n",
    "helloWorld( \"Hello\", \"World\" );"
   ],
   "outputs": [
    {
     "output_type": "stream",
     "name": "stdout",
     "text": [
      "Hello, World!\n"
     ]
    }
   ],
   "metadata": {}
  },
  {
   "cell_type": "code",
   "execution_count": null,
   "source": [],
   "outputs": [],
   "metadata": {}
  }
 ],
 "metadata": {
  "orig_nbformat": 4,
  "language_info": {
   "name": "javascript",
   "version": "16.9.1",
   "mimetype": "application/javascript",
   "file_extension": ".js"
  },
  "kernelspec": {
   "name": "javascript",
   "display_name": "Javascript (Node.js)",
   "language": "javascript"
  }
 },
 "nbformat": 4,
 "nbformat_minor": 2
}