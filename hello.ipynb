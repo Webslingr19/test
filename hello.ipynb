{
 "cells": [
  {
   "cell_type": "code",
   "execution_count": null,
   "source": [
    "console.log(\"Hello World!\")"
   ],
   "outputs": [],
   "metadata": {}
  },
  {
   "cell_type": "code",
   "execution_count": null,
   "source": [],
   "outputs": [],
   "metadata": {}
  },
  {
   "cell_type": "code",
   "execution_count": null,
   "source": [
    "var myName = \"Jason\"\r\n",
    "console.log(\"Hello,\",myName)"
   ],
   "outputs": [],
   "metadata": {}
  },
  {
   "cell_type": "code",
   "execution_count": null,
   "source": [
    "var myName = \"Jason\"\r\n",
    "console.log(\"Hello,\",myName)"
   ],
   "outputs": [],
   "metadata": {}
  },
  {
   "cell_type": "code",
   "execution_count": null,
   "source": [
    "var myName = \"Jason\"\r\n",
    "console.log(\"Hello,\", myName)"
   ],
   "outputs": [],
   "metadata": {}
  },
  {
   "cell_type": "code",
   "execution_count": 1,
   "source": [
    "var myName = \"Jason\"\r\n",
    "console.log(\"Hello,\",myName)"
   ],
   "outputs": [
    {
     "output_type": "stream",
     "name": "stdout",
     "text": [
      "Hello, Jason\n"
     ]
    }
   ],
   "metadata": {}
  },
  {
   "cell_type": "code",
   "execution_count": 1,
   "source": [
    "2+2"
   ],
   "outputs": [
    {
     "output_type": "execute_result",
     "data": {
      "text/plain": [
       "4"
      ]
     },
     "metadata": {},
     "execution_count": 1
    }
   ],
   "metadata": {}
  },
  {
   "cell_type": "code",
   "execution_count": 2,
   "source": [
    "4-2"
   ],
   "outputs": [
    {
     "output_type": "execute_result",
     "data": {
      "text/plain": [
       "2"
      ]
     },
     "metadata": {},
     "execution_count": 2
    }
   ],
   "metadata": {}
  },
  {
   "cell_type": "code",
   "execution_count": 3,
   "source": [
    "2 * 2"
   ],
   "outputs": [
    {
     "output_type": "execute_result",
     "data": {
      "text/plain": [
       "4"
      ]
     },
     "metadata": {},
     "execution_count": 3
    }
   ],
   "metadata": {}
  },
  {
   "cell_type": "code",
   "execution_count": 4,
   "source": [
    "2 / 2"
   ],
   "outputs": [
    {
     "output_type": "execute_result",
     "data": {
      "text/plain": [
       "1"
      ]
     },
     "metadata": {},
     "execution_count": 4
    }
   ],
   "metadata": {}
  },
  {
   "cell_type": "code",
   "execution_count": 5,
   "source": [
    "5 % 2"
   ],
   "outputs": [
    {
     "output_type": "execute_result",
     "data": {
      "text/plain": [
       "1"
      ]
     },
     "metadata": {},
     "execution_count": 5
    }
   ],
   "metadata": {}
  },
  {
   "cell_type": "code",
   "execution_count": 6,
   "source": [
    "5 % 2 //modulus for division(i.e the remainder of a long decision)"
   ],
   "outputs": [
    {
     "output_type": "execute_result",
     "data": {
      "text/plain": [
       "1"
      ]
     },
     "metadata": {},
     "execution_count": 6
    }
   ],
   "metadata": {}
  },
  {
   "cell_type": "code",
   "execution_count": 7,
   "source": [
    "/* \r\n",
    " How to create an exponent in JavaScript\r\n",
    "*/\r\n",
    "\r\n",
    "5 ** 2"
   ],
   "outputs": [
    {
     "output_type": "execute_result",
     "data": {
      "text/plain": [
       "25"
      ]
     },
     "metadata": {},
     "execution_count": 7
    }
   ],
   "metadata": {}
  },
  {
   "cell_type": "code",
   "execution_count": 1,
   "source": [
    "/* division */\r\n",
    "console.log(5 / 2)"
   ],
   "outputs": [
    {
     "output_type": "stream",
     "name": "stdout",
     "text": [
      "2.5\n"
     ]
    }
   ],
   "metadata": {}
  },
  {
   "cell_type": "code",
   "execution_count": 2,
   "source": [
    "// floor - removes decimal\r\n",
    "Math.floor(5 / 2)"
   ],
   "outputs": [
    {
     "output_type": "execute_result",
     "data": {
      "text/plain": [
       "2"
      ]
     },
     "metadata": {},
     "execution_count": 2
    }
   ],
   "metadata": {}
  },
  {
   "cell_type": "code",
   "execution_count": 3,
   "source": [
    "// PI\r\n",
    "Math.PI"
   ],
   "outputs": [
    {
     "output_type": "execute_result",
     "data": {
      "text/plain": [
       "3.141592653589793"
      ]
     },
     "metadata": {},
     "execution_count": 3
    }
   ],
   "metadata": {}
  },
  {
   "cell_type": "code",
   "execution_count": 4,
   "source": [
    "// Square roots\r\n",
    "Math.sqrt(25)"
   ],
   "outputs": [
    {
     "output_type": "execute_result",
     "data": {
      "text/plain": [
       "5"
      ]
     },
     "metadata": {},
     "execution_count": 4
    }
   ],
   "metadata": {}
  },
  {
   "cell_type": "code",
   "execution_count": 5,
   "source": [
    "// another way to do exponents\r\n",
    "Math.pow(2, 3)"
   ],
   "outputs": [
    {
     "output_type": "execute_result",
     "data": {
      "text/plain": [
       "8"
      ]
     },
     "metadata": {},
     "execution_count": 5
    }
   ],
   "metadata": {}
  },
  {
   "cell_type": "code",
   "execution_count": 6,
   "source": [
    "// remove some decimal points\r\n",
    "Math.PI.toFixed(5)"
   ],
   "outputs": [
    {
     "output_type": "execute_result",
     "data": {
      "text/plain": [
       "'3.14159'"
      ]
     },
     "metadata": {},
     "execution_count": 6
    }
   ],
   "metadata": {}
  },
  {
   "cell_type": "code",
   "execution_count": 8,
   "source": [
    "// hexadecimal\r\n",
    "var hex = 0x1234\r\n",
    "var dec = 1234\r\n",
    "console.log(hex, dec, hex.toString(2))"
   ],
   "outputs": [
    {
     "output_type": "stream",
     "name": "stdout",
     "text": [
      "4660 1234 1001000110100\n"
     ]
    }
   ],
   "metadata": {}
  },
  {
   "cell_type": "code",
   "execution_count": 9,
   "source": [
    "// different data types\r\n",
    "2 + \"8\""
   ],
   "outputs": [
    {
     "output_type": "execute_result",
     "data": {
      "text/plain": [
       "'28'"
      ]
     },
     "metadata": {},
     "execution_count": 9
    }
   ],
   "metadata": {}
  },
  {
   "cell_type": "code",
   "execution_count": 11,
   "source": [
    "// String concatenation\r\n",
    "\"Hello, \" + \"everyone\""
   ],
   "outputs": [
    {
     "output_type": "execute_result",
     "data": {
      "text/plain": [
       "'Hello, everyone'"
      ]
     },
     "metadata": {},
     "execution_count": 11
    }
   ],
   "metadata": {}
  },
  {
   "cell_type": "code",
   "execution_count": 19,
   "source": [
    "// different uses of console.log\r\n",
    "\r\n",
    "// Simple Text\r\n",
    "console.log(\"Some Text\")\r\n",
    "\r\n",
    "// Simple Variable\r\n",
    "var num = 12345\r\n",
    "console.log(num)\r\n",
    "\r\n",
    "// Multiple Items\r\n",
    "console.log(\"Some Text\", num, \" Some more Text\", 55)\r\n",
    "\r\n",
    "// Variable Substitution\r\n",
    "console.log(\"num = %i\", num)\r\n",
    "\r\n",
    "var firstName = \"Bob\"\r\n",
    "var lastName = \"Jones\"\r\n",
    "var studentID = \"W12345\"\r\n",
    "console.log(\"Name: %s %s, ID: %s\", firstName, lastName, studentID)"
   ],
   "outputs": [
    {
     "output_type": "stream",
     "name": "stdout",
     "text": [
      "Some Text\n",
      "12345\n",
      "Some Text 12345  Some more Text 55\n",
      "num = 12345\n",
      "Name: Bob Jones, ID: W12345\n"
     ]
    }
   ],
   "metadata": {}
  },
  {
   "cell_type": "code",
   "execution_count": 20,
   "source": [
    "// Are variables case sensitive?\r\n",
    "var apple = \"red\"\r\n",
    "var Apple = \"green\"\r\n",
    "console.log(apple, Apple)"
   ],
   "outputs": [
    {
     "output_type": "stream",
     "name": "stdout",
     "text": [
      "red green\n"
     ]
    }
   ],
   "metadata": {}
  },
  {
   "cell_type": "code",
   "execution_count": 21,
   "source": [
    "// Newer variable substitution\r\n",
    "\r\n",
    "var firstName = \"Bob\"\r\n",
    "var lastName = \"Jones\"\r\n",
    "var studentID = \"W12345\"\r\n",
    "console.log(`Name: ${firstName} ${lastName}, ID: ${studentID}`)"
   ],
   "outputs": [
    {
     "output_type": "stream",
     "name": "stdout",
     "text": [
      "Name: Bob Jones, ID: W12345\n"
     ]
    }
   ],
   "metadata": {}
  },
  {
   "cell_type": "code",
   "execution_count": 22,
   "source": [
    "// Repeat characters\r\n",
    "\r\n",
    "\"-*-\".repeat(10)"
   ],
   "outputs": [
    {
     "output_type": "execute_result",
     "data": {
      "text/plain": [
       "'-*--*--*--*--*--*--*--*--*--*-'"
      ]
     },
     "metadata": {},
     "execution_count": 22
    }
   ],
   "metadata": {}
  },
  {
   "cell_type": "code",
   "execution_count": 93,
   "source": [
    "console.log(\"This is \\non multiple \\nlines.\")"
   ],
   "outputs": [
    {
     "output_type": "stream",
     "name": "stdout",
     "text": [
      "This is \n",
      "on multiple \n",
      "lines.\n"
     ]
    }
   ],
   "metadata": {}
  },
  {
   "cell_type": "code",
   "execution_count": null,
   "source": [],
   "outputs": [],
   "metadata": {}
  },
  {
   "cell_type": "code",
   "execution_count": 11,
   "source": [
    "//COMPARISON VARIABLES\r\n",
    "var number1 = 3\r\n",
    "var number2 = 6\r\n",
    "\r\n",
    "//floating comparison\r\n",
    "// caution: be careful comparing float values as you might not get what you expect\r\n",
    "var float1 = 1.2345\r\n",
    "var float2 = 3.14159\r\n",
    "console.log(float1 === float2)\r\n",
    "console.log(float2 === Math.PI)\r\n",
    "console.log(1.00000001 === (1 + 0.00000001))\r\n",
    "\r\n",
    "// string comparison\r\n",
    "var string1 = \"abc\"\r\n",
    "var string2 = \"abd\"\r\n",
    "\r\n",
    "console.log(string1 === string2)\r\n",
    "console.log(string1  < string2)"
   ],
   "outputs": [
    {
     "output_type": "stream",
     "name": "stdout",
     "text": [
      "false\n",
      "false\n",
      "true\n",
      "false\n",
      "true\n"
     ]
    }
   ],
   "metadata": {}
  },
  {
   "cell_type": "code",
   "execution_count": 9,
   "source": [
    "//  == ---> compares anything\r\n",
    "//  === ---> only compares to same datatype"
   ],
   "outputs": [],
   "metadata": {}
  },
  {
   "cell_type": "code",
   "execution_count": 15,
   "source": [
    "// a simple decision\r\n",
    "if (2 < 3) {\r\n",
    "    console.log(\"Yes! 2 < 3!\")\r\n",
    "}"
   ],
   "outputs": [
    {
     "output_type": "stream",
     "name": "stdout",
     "text": [
      "Yes! 2 < 3!\n"
     ]
    }
   ],
   "metadata": {}
  },
  {
   "cell_type": "code",
   "execution_count": 19,
   "source": [
    "// decision using variables\r\n",
    "var name = \"Bob\"\r\n",
    "if (name === \"Bob\") {\r\n",
    "    console.log(\"Hi! Bob!\")\r\n",
    "}\r\n",
    "\r\n",
    "// bad formatting\r\n",
    "if (name ===     \"Bob\" )\r\n",
    "{\r\n",
    "console.log(\"Hi! Bob!\")\r\n",
    "  }\r\n",
    "\r\n",
    "// good formatting\r\n",
    "if (name === \"Bob\") { //watch the position of \"whitespace\"\r\n",
    "    console.log(\"Hi! Bob!\") //indented 4 spaces\r\n",
    "}"
   ],
   "outputs": [
    {
     "output_type": "stream",
     "name": "stdout",
     "text": [
      "Hi! Bob!\n",
      "Hi! Bob!\n",
      "Hi! Bob!\n"
     ]
    }
   ],
   "metadata": {}
  },
  {
   "cell_type": "code",
   "execution_count": 22,
   "source": [
    "// if - else statement\r\n",
    "var number1 = 1\r\n",
    "if (number1 === 2) {\r\n",
    "    console.log(\"1 = 2!\")\r\n",
    "} else {\r\n",
    "    console.log(\"1 != 2\")\r\n",
    "}"
   ],
   "outputs": [
    {
     "output_type": "stream",
     "name": "stdout",
     "text": [
      "1 != 2\n"
     ]
    }
   ],
   "metadata": {}
  },
  {
   "cell_type": "code",
   "execution_count": 37,
   "source": [
    "// nested if statements\r\n",
    "var code = \"superAdministrat0r\"\r\n",
    "if (code === \"p@ssw0rd\") {\r\n",
    "    console.log(\"Welcome, user!\")\r\n",
    "} else \r\n",
    "    if (code === \"admin1strator\") {\r\n",
    "        console.log(\"Welcome, lord!\")\r\n",
    "    } else \r\n",
    "        if (code === \"superAdministrat0r\") {\r\n",
    "            console.log(\"All hail!\")\r\n",
    "        } else {\r\n",
    "            console.log(\"Login failed.\")\r\n",
    "        }\r\n",
    "    \r\n"
   ],
   "outputs": [
    {
     "output_type": "stream",
     "name": "stdout",
     "text": [
      "All hail!\n"
     ]
    }
   ],
   "metadata": {}
  },
  {
   "cell_type": "code",
   "execution_count": 39,
   "source": [
    "//    && = AND\r\n",
    "//    || = OR"
   ],
   "outputs": [],
   "metadata": {}
  },
  {
   "cell_type": "code",
   "execution_count": 45,
   "source": [
    "// compound if statement\r\n",
    "var number1 = 1234\r\n",
    "var name = \"John\"\r\n",
    "if (number1 === 123 && name === \"John\") {\r\n",
    "    console.log(\"AND!\")\r\n",
    "}\r\n",
    "\r\n",
    "if (number1 === 123 || name === \"John\") {\r\n",
    "    console.log(\"OR!\")\r\n",
    "}"
   ],
   "outputs": [
    {
     "output_type": "stream",
     "name": "stdout",
     "text": [
      "Hi, John!\n"
     ]
    }
   ],
   "metadata": {}
  },
  {
   "cell_type": "code",
   "execution_count": 52,
   "source": [
    "// a rather long example\r\n",
    "var number1 = 123\r\n",
    "var boolean1 = false\r\n",
    "var string1 = \"password\"\r\n",
    "var float1 = 3.1\r\n",
    "var character1 = 'x'\r\n",
    "if ((number1 === 123 && boolean1 === false) || \r\n",
    "    (string1 === \"password\" && float1 === 3.1 && character1 === 'x')) {\r\n",
    "    console.log(\"Wow... that's long!\")\r\n",
    "}"
   ],
   "outputs": [
    {
     "output_type": "stream",
     "name": "stdout",
     "text": [
      "Wow... that's long!\n"
     ]
    }
   ],
   "metadata": {}
  },
  {
   "cell_type": "code",
   "execution_count": 10,
   "source": [
    "var name = \"John Doe\"\r\n",
    "var id = \"W012346\"\r\n",
    "\r\n",
    "console.log(\"Name:\" + name + \"\\n\" + \"Student #:\" + id)"
   ],
   "outputs": [
    {
     "output_type": "stream",
     "name": "stdout",
     "text": [
      "Name:John Doe\n",
      "Student #:W012346\n"
     ]
    }
   ],
   "metadata": {}
  },
  {
   "cell_type": "code",
   "execution_count": 14,
   "source": [
    "var number = 4 // is this an EVEN number?\r\n",
    "\r\n",
    "if (number % 2 == 0) {\r\n",
    "    console.log(\"EVEN\")\r\n",
    "} else {\r\n",
    "    console.log(\"\")\r\n",
    "}"
   ],
   "outputs": [
    {
     "output_type": "stream",
     "name": "stdout",
     "text": [
      "EVEN\n"
     ]
    }
   ],
   "metadata": {}
  },
  {
   "cell_type": "code",
   "execution_count": 1,
   "source": [
    "var character = 'b' // is this a letter?\r\n",
    "\r\n",
    "if (character >= 'a' && character <= 'z') {\r\n",
    "    console.log(\"letter\")\r\n",
    "}"
   ],
   "outputs": [
    {
     "output_type": "stream",
     "name": "stdout",
     "text": [
      "letter\n"
     ]
    }
   ],
   "metadata": {}
  },
  {
   "cell_type": "code",
   "execution_count": 28,
   "source": [
    "var prompt = require(\"prompt-sync\")()\r\n",
    "\r\n",
    "var enteredCode = '12346' // is this the secret code?\r\n",
    "\r\n",
    "num = prompt(\"Enter Code: \")\r\n",
    "\r\n",
    "if (num == enteredCode) {\r\n",
    "    console.log(\"UNLOCKED!\")\r\n",
    "} else{\r\n",
    "    console.log(\"ALARM!\")\r\n",
    "}"
   ],
   "outputs": [],
   "metadata": {}
  },
  {
   "cell_type": "code",
   "execution_count": 5,
   "source": [
    "var enteredCode = '12346' // is this the secret code?\r\n",
    "\r\n",
    "if (enteredCode == '12345') {\r\n",
    "    console.log(\"UNLOCKED!\")\r\n",
    "} else{\r\n",
    "    console.log(\"ALARM!\")\r\n",
    "}"
   ],
   "outputs": [
    {
     "output_type": "stream",
     "name": "stdout",
     "text": [
      "ALARM!\n"
     ]
    }
   ],
   "metadata": {}
  },
  {
   "cell_type": "code",
   "execution_count": 6,
   "source": [
    "var integer = 1 // is this negative, positive or zero?\r\n",
    "\r\n",
    "if(integer > 0) {\r\n",
    "    console.log(\"positive\")\r\n",
    "} else if(integer < 0) {\r\n",
    "    console.log(\"negative\")\r\n",
    "} else {\r\n",
    "    console.log(\"zero\")\r\n",
    "}"
   ],
   "outputs": [
    {
     "output_type": "stream",
     "name": "stdout",
     "text": [
      "positive\n"
     ]
    }
   ],
   "metadata": {}
  },
  {
   "cell_type": "code",
   "execution_count": 2,
   "source": [
    "for(var i=1;i<=5;i++)\r\n",
    "{\r\n",
    "    for(var j=1;j<=i;j++)\r\n",
    "        {\r\n",
    "            console.log(\"o\");\r\n",
    "            \r\n",
    "        }\r\n",
    "    console.log(\"\\n\");\r\n",
    "}\r\n"
   ],
   "outputs": [
    {
     "output_type": "stream",
     "name": "stdout",
     "text": [
      "o\n",
      "\n",
      "\n",
      "o\n",
      "o\n",
      "\n",
      "\n",
      "o\n",
      "o\n",
      "o\n",
      "\n",
      "\n",
      "o\n",
      "o\n",
      "o\n",
      "o\n",
      "\n",
      "\n",
      "o\n",
      "o\n",
      "o\n",
      "o\n",
      "o\n",
      "\n",
      "\n"
     ]
    }
   ],
   "metadata": {}
  },
  {
   "cell_type": "code",
   "execution_count": 8,
   "source": [
    "var output = \"\"\r\n",
    "for (var i = 0; -6 < i < 6; i--) {\r\n",
    "    output += `${i} `\r\n",
    "}\r\n",
    "console.log(output)"
   ],
   "outputs": [],
   "metadata": {}
  },
  {
   "cell_type": "code",
   "execution_count": null,
   "source": [
    "for (var i = 1; i < 6; i++) {\r\n",
    "    console.log(\" \".repeat(6 - i), \"o\".repeat(i))\r\n",
    "\r\n",
    "}"
   ],
   "outputs": [
    {
     "output_type": "stream",
     "name": "stdout",
     "text": [
      "      o\n",
      "      o\n",
      "     oo\n",
      "    ooo\n",
      "   oooo\n",
      "  ooooo\n",
      " oooooo\n"
     ]
    }
   ],
   "metadata": {}
  },
  {
   "cell_type": "code",
   "execution_count": 4,
   "source": [
    "var n = \"10\"\r\n",
    "var diamond = \"\"\r\n",
    "// Upside pyramid\r\n",
    "for ( i = 1; i <= n; i++) {\r\n",
    "  // printing spaces\r\n",
    "  for ( j = n; j > i; j--) {\r\n",
    "    diamond += \" \";\r\n",
    "  }\r\n",
    "  // printing n\r\n",
    "  for (k = 0; k < i * 2 - 1; k++) {\r\n",
    "    diamond += \"o\";\r\n",
    "  }\r\n",
    "  diamond += \"\\n\";\r\n",
    "}\r\n",
    "// downside pyramid\r\n",
    "for ( i = 1; i <= n - 1; i++) {\r\n",
    "  // printing spaces\r\n",
    "  for ( j = 0; j < i; j++) {\r\n",
    "    diamond += \" \";\r\n",
    "  }\r\n",
    "  // printing n\r\n",
    "  for ( k = (n - i) * 2 - 1; k > 0; k--) {\r\n",
    "    diamond += \"o\";\r\n",
    "  }\r\n",
    "  diamond += \"\\n\";\r\n",
    "}\r\n",
    "console.log(diamond);"
   ],
   "outputs": [
    {
     "output_type": "stream",
     "name": "stdout",
     "text": [
      "         o\n",
      "        ooo\n",
      "       ooooo\n",
      "      ooooooo\n",
      "     ooooooooo\n",
      "    ooooooooooo\n",
      "   ooooooooooooo\n",
      "  ooooooooooooooo\n",
      " ooooooooooooooooo\n",
      "ooooooooooooooooooo\n",
      " ooooooooooooooooo\n",
      "  ooooooooooooooo\n",
      "   ooooooooooooo\n",
      "    ooooooooooo\n",
      "     ooooooooo\n",
      "      ooooooo\n",
      "       ooooo\n",
      "        ooo\n",
      "         o\n",
      "\n"
     ]
    }
   ],
   "metadata": {}
  },
  {
   "cell_type": "code",
   "execution_count": 3,
   "source": [
    "var output = \"\"\r\n",
    "for (var i = 5; i >= -5; i -=2) {\r\n",
    "    output += `${i} `\r\n",
    "}\r\n",
    "console.log(output)"
   ],
   "outputs": [
    {
     "output_type": "stream",
     "name": "stdout",
     "text": [
      "5 3 1 -1 -3 -5 \n"
     ]
    }
   ],
   "metadata": {}
  },
  {
   "cell_type": "code",
   "execution_count": 6,
   "source": [
    "10 <= 10 && (true || false) && !(4 > 5)"
   ],
   "outputs": [
    {
     "output_type": "execute_result",
     "data": {
      "text/plain": [
       "true"
      ]
     },
     "metadata": {},
     "execution_count": 6
    }
   ],
   "metadata": {}
  },
  {
   "cell_type": "code",
   "execution_count": null,
   "source": [
    "var day = 3\r\n",
    "if (day == 1) {\r\n",
    "    day = \"Sunday\"\r\n",
    "}\r\n",
    "else if (day == 2) {\r\n",
    "    day = \"Monday\"\r\n",
    "}\r\n",
    "else if (day == 3) {\r\n",
    "    day = \"Tuesday\"\r\n",
    "}\r\n",
    "else if (day == 4) {\r\n",
    "    day = \"Wednesday\"\r\n",
    "}\r\n",
    "else if (day == 5) {\r\n",
    "    day = \"Thursday\"\r\n",
    "}\r\n",
    "else if (day == 6) {\r\n",
    "    day = \"Friday\"\r\n",
    "}\r\n",
    "else if (day == 7) {\r\n",
    "    day = \"Saturday\"\r\n",
    "}\r\n",
    "console.log(day)"
   ],
   "outputs": [
    {
     "output_type": "stream",
     "name": "stdout",
     "text": [
      "Thursday\n"
     ]
    }
   ],
   "metadata": {}
  },
  {
   "cell_type": "code",
   "execution_count": null,
   "source": [
    "// determine what value to change the variable \"magic_num\" to in order to print out the message\r\n",
    "// 5 pts\r\n",
    "\r\n",
    "// Just change the number to the real magic number! Yep, that's it!\r\n",
    "// Please keep your answer from others. The fun is solving the puzzle after all!\r\n",
    "var magic_num = 0\r\n",
    "\r\n",
    "// don't modify the following code\r\n",
    "var check = 0\r\n",
    "while (check < 129) {\r\n",
    "    for (var i = 0; i < 5; i++) {\r\n",
    "        magic_num -= 7\r\n",
    "    }\r\n",
    "    check += 9\r\n",
    "}\r\n",
    "if (magic_num == 0) {\r\n",
    "    console.log(\"You found the magic number!\")\r\n",
    "} else {\r\n",
    "    console.log(\"Not yet. Keep trying!\")\r\n",
    "}"
   ],
   "outputs": [
    {
     "output_type": "stream",
     "name": "stdout",
     "text": [
      "Not yet. Keep trying!\n"
     ]
    }
   ],
   "metadata": {}
  },
  {
   "cell_type": "code",
   "execution_count": 13,
   "source": [
    "// create a program that solves that age old question, \r\n",
    "// \"Would you choose $1 Million dollars or get a single penny that doubles every day for a month?\"\r\n",
    "// (e.g. Day 1 = 1¢, Day 2 = 2¢, Day 3 = 4¢, ..., Day 30 = ?)\r\n",
    "// by calculating the total amount you would get on Day 30\r\n",
    "// Note 1: just display the amount for Day 30, not the values for other days\r\n",
    "// Note 2: display the final number as a dollar amount, not in pennies\r\n",
    "// 3 pts\r\n",
    "\r\n",
    "var day = 30\r\n",
    "\r\n",
    "for(var i = 0.01 i= i * 2){\r\n",
    "    console.log(i ** day)"
   ],
   "outputs": [
    {
     "output_type": "error",
     "ename": "SyntaxError",
     "evalue": "Unexpected identifier",
     "traceback": [
      "evalmachine.<anonymous>:10",
      "    console.log(i * 30) TO RECHECK",
      "                        ^^",
      "",
      "SyntaxError: Unexpected identifier",
      "    at new Script (node:vm:100:7)",
      "    at createScript (node:vm:257:10)",
      "    at Object.runInThisContext (node:vm:305:10)",
      "    at run ([eval]:1054:15)",
      "    at onRunRequest ([eval]:888:18)",
      "    at onMessage ([eval]:848:13)",
      "    at process.emit (node:events:394:28)",
      "    at emit (node:internal/child_process:917:12)",
      "    at processTicksAndRejections (node:internal/process/task_queues:84:21)"
     ]
    }
   ],
   "metadata": {}
  },
  {
   "cell_type": "code",
   "execution_count": null,
   "source": [],
   "outputs": [],
   "metadata": {}
  }
 ],
 "metadata": {
  "kernelspec": {
   "display_name": "Javascript (Node.js)",
   "language": "javascript",
   "name": "javascript"
  },
  "language_info": {
   "file_extension": ".js",
   "mimetype": "application/javascript",
   "name": "javascript",
   "version": "16.9.1"
  }
 },
 "nbformat": 4,
 "nbformat_minor": 4
}